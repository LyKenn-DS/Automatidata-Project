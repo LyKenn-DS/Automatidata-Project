{
 "cells": [
  {
   "cell_type": "markdown",
   "metadata": {
    "id": "DtNBZFHO3M7n"
   },
   "source": [
    "# **Automatidata project**\n",
    "**Regression Analysis: Simplify complex data relationships**"
   ]
  },
  {
   "cell_type": "markdown",
   "metadata": {
    "id": "7KFOyc3JPSiN"
   },
   "source": [
    "# Build a multiple linear regression model"
   ]
  },
  {
   "cell_type": "markdown",
   "metadata": {
    "id": "F5O5cx_qQJmX"
   },
   "source": [
    "<img src=\"images/Plan.png\" width=\"100\" height=\"100\" align=left>\n",
    "\n",
    "\n",
    "## PACE: **Plan**\n",
    "\n",
    "Consider the questions in your PACE Strategy Document & ethical considerations of ML model.\n"
   ]
  },
  {
   "cell_type": "markdown",
   "metadata": {
    "id": "D8qYlvkLQsf2"
   },
   "source": [
    "### Task 1. Imports and loading"
   ]
  },
  {
   "cell_type": "code",
   "execution_count": 1,
   "metadata": {
    "id": "ccfeg6X6eOVZ"
   },
   "outputs": [],
   "source": [
    "# Imports\n",
    "# Packages for numerics + dataframes\n",
    "import numpy as np\n",
    "import pandas as pd\n",
    "\n",
    "# Packages for visualization\n",
    "import matplotlib.pyplot as plt\n",
    "import seaborn as sns\n",
    "\n",
    "# Packages for date conversions for calculating trip durations\n",
    "import datetime\n",
    "\n",
    "# Packages for OLS, MLR, confusion matrix\n",
    "import statsmodels.api as sm \n",
    "import sklearn.metrics as metrics\n"
   ]
  },
  {
   "cell_type": "code",
   "execution_count": null,
   "metadata": {},
   "outputs": [],
   "source": [
    "try:\n",
    "    import common\n",
    "    DATA = common.dataDirectory()\n",
    "except ImportError:\n",
    "    DATA = Path().resolve() / 'data'"
   ]
  },
  {
   "cell_type": "code",
   "execution_count": 3,
   "metadata": {
    "id": "TyR3sBUYJBO8"
   },
   "outputs": [],
   "source": [
    "# Load dataset into dataframe \n",
    "df = pd.read_csv(DATA / \"2017_Yellow_Taxi_Trip_Data.csv\", index_col=0) "
   ]
  },
  {
   "cell_type": "markdown",
   "metadata": {
    "id": "OnrvCSfHUWPv"
   },
   "source": [
    "## PACE: **Analyze**\n",
    "\n",
    "Consider the purposes of EDA before constructing a multiple linear regression model:\n",
    "- Explore & examine the data quality and ethics\n",
    "  (eg. distribution of the features, such as range, mean, spread).\n",
    "- To clean & manipulate data for effective modeling such as retifying missing values, incorrect entries, or inconsistent type / format. As generally, libraries like `statsmodels` & `scikit-learn` would not respond well to erroneous data.   \n"
   ]
  },
  {
   "cell_type": "markdown",
   "metadata": {
    "id": "rIcDG2e66wt9"
   },
   "source": [
    "### Task 2a. Explore data with EDA\n",
    "\n",
    "Analyze and discover data, looking for correlations, missing data, outliers, and duplicates."
   ]
  },
  {
   "cell_type": "code",
   "execution_count": 4,
   "metadata": {},
   "outputs": [
    {
     "data": {
      "text/plain": [
       "(22699, 17)"
      ]
     },
     "execution_count": 4,
     "metadata": {},
     "output_type": "execute_result"
    }
   ],
   "source": [
    "# Create a copy (df) where changes will go\n",
    "df_trips = df.copy()\n",
    "\n",
    "# Start with `.shape` and `.info()`\n",
    "df_trips.shape"
   ]
  },
  {
   "cell_type": "code",
   "execution_count": 5,
   "metadata": {
    "id": "T4Ag-sZhWg6K"
   },
   "outputs": [
    {
     "name": "stdout",
     "output_type": "stream",
     "text": [
      "<class 'pandas.core.frame.DataFrame'>\n",
      "Int64Index: 22699 entries, 24870114 to 17208911\n",
      "Data columns (total 17 columns):\n",
      " #   Column                 Non-Null Count  Dtype  \n",
      "---  ------                 --------------  -----  \n",
      " 0   VendorID               22699 non-null  int64  \n",
      " 1   tpep_pickup_datetime   22699 non-null  object \n",
      " 2   tpep_dropoff_datetime  22699 non-null  object \n",
      " 3   passenger_count        22699 non-null  int64  \n",
      " 4   trip_distance          22699 non-null  float64\n",
      " 5   RatecodeID             22699 non-null  int64  \n",
      " 6   store_and_fwd_flag     22699 non-null  object \n",
      " 7   PULocationID           22699 non-null  int64  \n",
      " 8   DOLocationID           22699 non-null  int64  \n",
      " 9   payment_type           22699 non-null  int64  \n",
      " 10  fare_amount            22699 non-null  float64\n",
      " 11  extra                  22699 non-null  float64\n",
      " 12  mta_tax                22699 non-null  float64\n",
      " 13  tip_amount             22699 non-null  float64\n",
      " 14  tolls_amount           22699 non-null  float64\n",
      " 15  improvement_surcharge  22699 non-null  float64\n",
      " 16  total_amount           22699 non-null  float64\n",
      "dtypes: float64(8), int64(6), object(3)\n",
      "memory usage: 3.1+ MB\n"
     ]
    }
   ],
   "source": [
    "df_trips.info()\n"
   ]
  },
  {
   "cell_type": "code",
   "execution_count": 6,
   "metadata": {
    "id": "3QZZIxxi3OV3"
   },
   "outputs": [
    {
     "data": {
      "text/plain": [
       "VendorID                 0\n",
       "tpep_pickup_datetime     0\n",
       "tpep_dropoff_datetime    0\n",
       "passenger_count          0\n",
       "trip_distance            0\n",
       "RatecodeID               0\n",
       "store_and_fwd_flag       0\n",
       "PULocationID             0\n",
       "DOLocationID             0\n",
       "payment_type             0\n",
       "fare_amount              0\n",
       "extra                    0\n",
       "mta_tax                  0\n",
       "tip_amount               0\n",
       "tolls_amount             0\n",
       "improvement_surcharge    0\n",
       "total_amount             0\n",
       "dtype: int64"
      ]
     },
     "execution_count": 6,
     "metadata": {},
     "output_type": "execute_result"
    }
   ],
   "source": [
    "# Check for missing data and duplicates using .isna() and .drop_duplicates()\n",
    "df_trips.isnull().sum()"
   ]
  },
  {
   "cell_type": "code",
   "execution_count": 7,
   "metadata": {},
   "outputs": [
    {
     "data": {
      "text/plain": [
       "0"
      ]
     },
     "execution_count": 7,
     "metadata": {},
     "output_type": "execute_result"
    }
   ],
   "source": [
    "df_trips.index.duplicated().sum()\n",
    "\n",
    "# Since there's no duplicate trip as shown by the unique trip identification number,\n",
    "# `drop_duplicates()` is not needed. "
   ]
  },
  {
   "cell_type": "code",
   "execution_count": 8,
   "metadata": {
    "id": "2O3b9H9B9nwk"
   },
   "outputs": [
    {
     "data": {
      "text/html": [
       "<div>\n",
       "<style scoped>\n",
       "    .dataframe tbody tr th:only-of-type {\n",
       "        vertical-align: middle;\n",
       "    }\n",
       "\n",
       "    .dataframe tbody tr th {\n",
       "        vertical-align: top;\n",
       "    }\n",
       "\n",
       "    .dataframe thead th {\n",
       "        text-align: right;\n",
       "    }\n",
       "</style>\n",
       "<table border=\"1\" class=\"dataframe\">\n",
       "  <thead>\n",
       "    <tr style=\"text-align: right;\">\n",
       "      <th></th>\n",
       "      <th>VendorID</th>\n",
       "      <th>passenger_count</th>\n",
       "      <th>trip_distance</th>\n",
       "      <th>RatecodeID</th>\n",
       "      <th>PULocationID</th>\n",
       "      <th>DOLocationID</th>\n",
       "      <th>payment_type</th>\n",
       "      <th>fare_amount</th>\n",
       "      <th>extra</th>\n",
       "      <th>mta_tax</th>\n",
       "      <th>tip_amount</th>\n",
       "      <th>tolls_amount</th>\n",
       "      <th>improvement_surcharge</th>\n",
       "      <th>total_amount</th>\n",
       "    </tr>\n",
       "  </thead>\n",
       "  <tbody>\n",
       "    <tr>\n",
       "      <th>count</th>\n",
       "      <td>22699.000000</td>\n",
       "      <td>22699.000000</td>\n",
       "      <td>22699.000000</td>\n",
       "      <td>22699.000000</td>\n",
       "      <td>22699.000000</td>\n",
       "      <td>22699.000000</td>\n",
       "      <td>22699.000000</td>\n",
       "      <td>22699.000000</td>\n",
       "      <td>22699.000000</td>\n",
       "      <td>22699.000000</td>\n",
       "      <td>22699.000000</td>\n",
       "      <td>22699.000000</td>\n",
       "      <td>22699.000000</td>\n",
       "      <td>22699.000000</td>\n",
       "    </tr>\n",
       "    <tr>\n",
       "      <th>mean</th>\n",
       "      <td>1.556236</td>\n",
       "      <td>1.642319</td>\n",
       "      <td>2.913313</td>\n",
       "      <td>1.043394</td>\n",
       "      <td>162.412353</td>\n",
       "      <td>161.527997</td>\n",
       "      <td>1.336887</td>\n",
       "      <td>13.026629</td>\n",
       "      <td>0.333275</td>\n",
       "      <td>0.497445</td>\n",
       "      <td>1.835781</td>\n",
       "      <td>0.312542</td>\n",
       "      <td>0.299551</td>\n",
       "      <td>16.310502</td>\n",
       "    </tr>\n",
       "    <tr>\n",
       "      <th>std</th>\n",
       "      <td>0.496838</td>\n",
       "      <td>1.285231</td>\n",
       "      <td>3.653171</td>\n",
       "      <td>0.708391</td>\n",
       "      <td>66.633373</td>\n",
       "      <td>70.139691</td>\n",
       "      <td>0.496211</td>\n",
       "      <td>13.243791</td>\n",
       "      <td>0.463097</td>\n",
       "      <td>0.039465</td>\n",
       "      <td>2.800626</td>\n",
       "      <td>1.399212</td>\n",
       "      <td>0.015673</td>\n",
       "      <td>16.097295</td>\n",
       "    </tr>\n",
       "    <tr>\n",
       "      <th>min</th>\n",
       "      <td>1.000000</td>\n",
       "      <td>0.000000</td>\n",
       "      <td>0.000000</td>\n",
       "      <td>1.000000</td>\n",
       "      <td>1.000000</td>\n",
       "      <td>1.000000</td>\n",
       "      <td>1.000000</td>\n",
       "      <td>-120.000000</td>\n",
       "      <td>-1.000000</td>\n",
       "      <td>-0.500000</td>\n",
       "      <td>0.000000</td>\n",
       "      <td>0.000000</td>\n",
       "      <td>-0.300000</td>\n",
       "      <td>-120.300000</td>\n",
       "    </tr>\n",
       "    <tr>\n",
       "      <th>25%</th>\n",
       "      <td>1.000000</td>\n",
       "      <td>1.000000</td>\n",
       "      <td>0.990000</td>\n",
       "      <td>1.000000</td>\n",
       "      <td>114.000000</td>\n",
       "      <td>112.000000</td>\n",
       "      <td>1.000000</td>\n",
       "      <td>6.500000</td>\n",
       "      <td>0.000000</td>\n",
       "      <td>0.500000</td>\n",
       "      <td>0.000000</td>\n",
       "      <td>0.000000</td>\n",
       "      <td>0.300000</td>\n",
       "      <td>8.750000</td>\n",
       "    </tr>\n",
       "    <tr>\n",
       "      <th>50%</th>\n",
       "      <td>2.000000</td>\n",
       "      <td>1.000000</td>\n",
       "      <td>1.610000</td>\n",
       "      <td>1.000000</td>\n",
       "      <td>162.000000</td>\n",
       "      <td>162.000000</td>\n",
       "      <td>1.000000</td>\n",
       "      <td>9.500000</td>\n",
       "      <td>0.000000</td>\n",
       "      <td>0.500000</td>\n",
       "      <td>1.350000</td>\n",
       "      <td>0.000000</td>\n",
       "      <td>0.300000</td>\n",
       "      <td>11.800000</td>\n",
       "    </tr>\n",
       "    <tr>\n",
       "      <th>75%</th>\n",
       "      <td>2.000000</td>\n",
       "      <td>2.000000</td>\n",
       "      <td>3.060000</td>\n",
       "      <td>1.000000</td>\n",
       "      <td>233.000000</td>\n",
       "      <td>233.000000</td>\n",
       "      <td>2.000000</td>\n",
       "      <td>14.500000</td>\n",
       "      <td>0.500000</td>\n",
       "      <td>0.500000</td>\n",
       "      <td>2.450000</td>\n",
       "      <td>0.000000</td>\n",
       "      <td>0.300000</td>\n",
       "      <td>17.800000</td>\n",
       "    </tr>\n",
       "    <tr>\n",
       "      <th>max</th>\n",
       "      <td>2.000000</td>\n",
       "      <td>6.000000</td>\n",
       "      <td>33.960000</td>\n",
       "      <td>99.000000</td>\n",
       "      <td>265.000000</td>\n",
       "      <td>265.000000</td>\n",
       "      <td>4.000000</td>\n",
       "      <td>999.990000</td>\n",
       "      <td>4.500000</td>\n",
       "      <td>0.500000</td>\n",
       "      <td>200.000000</td>\n",
       "      <td>19.100000</td>\n",
       "      <td>0.300000</td>\n",
       "      <td>1200.290000</td>\n",
       "    </tr>\n",
       "  </tbody>\n",
       "</table>\n",
       "</div>"
      ],
      "text/plain": [
       "           VendorID  passenger_count  trip_distance    RatecodeID  \\\n",
       "count  22699.000000     22699.000000   22699.000000  22699.000000   \n",
       "mean       1.556236         1.642319       2.913313      1.043394   \n",
       "std        0.496838         1.285231       3.653171      0.708391   \n",
       "min        1.000000         0.000000       0.000000      1.000000   \n",
       "25%        1.000000         1.000000       0.990000      1.000000   \n",
       "50%        2.000000         1.000000       1.610000      1.000000   \n",
       "75%        2.000000         2.000000       3.060000      1.000000   \n",
       "max        2.000000         6.000000      33.960000     99.000000   \n",
       "\n",
       "       PULocationID  DOLocationID  payment_type   fare_amount         extra  \\\n",
       "count  22699.000000  22699.000000  22699.000000  22699.000000  22699.000000   \n",
       "mean     162.412353    161.527997      1.336887     13.026629      0.333275   \n",
       "std       66.633373     70.139691      0.496211     13.243791      0.463097   \n",
       "min        1.000000      1.000000      1.000000   -120.000000     -1.000000   \n",
       "25%      114.000000    112.000000      1.000000      6.500000      0.000000   \n",
       "50%      162.000000    162.000000      1.000000      9.500000      0.000000   \n",
       "75%      233.000000    233.000000      2.000000     14.500000      0.500000   \n",
       "max      265.000000    265.000000      4.000000    999.990000      4.500000   \n",
       "\n",
       "            mta_tax    tip_amount  tolls_amount  improvement_surcharge  \\\n",
       "count  22699.000000  22699.000000  22699.000000           22699.000000   \n",
       "mean       0.497445      1.835781      0.312542               0.299551   \n",
       "std        0.039465      2.800626      1.399212               0.015673   \n",
       "min       -0.500000      0.000000      0.000000              -0.300000   \n",
       "25%        0.500000      0.000000      0.000000               0.300000   \n",
       "50%        0.500000      1.350000      0.000000               0.300000   \n",
       "75%        0.500000      2.450000      0.000000               0.300000   \n",
       "max        0.500000    200.000000     19.100000               0.300000   \n",
       "\n",
       "       total_amount  \n",
       "count  22699.000000  \n",
       "mean      16.310502  \n",
       "std       16.097295  \n",
       "min     -120.300000  \n",
       "25%        8.750000  \n",
       "50%       11.800000  \n",
       "75%       17.800000  \n",
       "max     1200.290000  "
      ]
     },
     "execution_count": 8,
     "metadata": {},
     "output_type": "execute_result"
    }
   ],
   "source": [
    "# Examine the descriptive statistics of data\n",
    "df_trips.describe()\n"
   ]
  },
  {
   "cell_type": "markdown",
   "metadata": {},
   "source": [
    "**Note:** Some things stand out from this table of summary statistics. For instance, there are clearly some outliers in several variables, like `tip_amount` (\\$200) and `total_amount` (\\$1,200). Also, a number of the variables, such as `mta_tax`, seem to be almost constant throughout the data, which would imply that they would not be expected to be very predictive."
   ]
  },
  {
   "cell_type": "markdown",
   "metadata": {
    "id": "iXhaBfP_WOSR"
   },
   "source": [
    "### Task 2b. Convert pickup & dropoff columns to datetime\n"
   ]
  },
  {
   "cell_type": "code",
   "execution_count": 9,
   "metadata": {
    "id": "TbHu-SSInJCX"
   },
   "outputs": [
    {
     "data": {
      "text/html": [
       "<div>\n",
       "<style scoped>\n",
       "    .dataframe tbody tr th:only-of-type {\n",
       "        vertical-align: middle;\n",
       "    }\n",
       "\n",
       "    .dataframe tbody tr th {\n",
       "        vertical-align: top;\n",
       "    }\n",
       "\n",
       "    .dataframe thead th {\n",
       "        text-align: right;\n",
       "    }\n",
       "</style>\n",
       "<table border=\"1\" class=\"dataframe\">\n",
       "  <thead>\n",
       "    <tr style=\"text-align: right;\">\n",
       "      <th></th>\n",
       "      <th>tpep_pickup_datetime</th>\n",
       "      <th>tpep_dropoff_datetime</th>\n",
       "    </tr>\n",
       "  </thead>\n",
       "  <tbody>\n",
       "    <tr>\n",
       "      <th>24870114</th>\n",
       "      <td>03/25/2017 8:55:43 AM</td>\n",
       "      <td>03/25/2017 9:09:47 AM</td>\n",
       "    </tr>\n",
       "    <tr>\n",
       "      <th>35634249</th>\n",
       "      <td>04/11/2017 2:53:28 PM</td>\n",
       "      <td>04/11/2017 3:19:58 PM</td>\n",
       "    </tr>\n",
       "    <tr>\n",
       "      <th>106203690</th>\n",
       "      <td>12/15/2017 7:26:56 AM</td>\n",
       "      <td>12/15/2017 7:34:08 AM</td>\n",
       "    </tr>\n",
       "    <tr>\n",
       "      <th>38942136</th>\n",
       "      <td>05/07/2017 1:17:59 PM</td>\n",
       "      <td>05/07/2017 1:48:14 PM</td>\n",
       "    </tr>\n",
       "    <tr>\n",
       "      <th>30841670</th>\n",
       "      <td>04/15/2017 11:32:20 PM</td>\n",
       "      <td>04/15/2017 11:49:03 PM</td>\n",
       "    </tr>\n",
       "  </tbody>\n",
       "</table>\n",
       "</div>"
      ],
      "text/plain": [
       "             tpep_pickup_datetime   tpep_dropoff_datetime\n",
       "24870114    03/25/2017 8:55:43 AM   03/25/2017 9:09:47 AM\n",
       "35634249    04/11/2017 2:53:28 PM   04/11/2017 3:19:58 PM\n",
       "106203690   12/15/2017 7:26:56 AM   12/15/2017 7:34:08 AM\n",
       "38942136    05/07/2017 1:17:59 PM   05/07/2017 1:48:14 PM\n",
       "30841670   04/15/2017 11:32:20 PM  04/15/2017 11:49:03 PM"
      ]
     },
     "execution_count": 9,
     "metadata": {},
     "output_type": "execute_result"
    }
   ],
   "source": [
    "# Check the format of the data\n",
    "df_trips[['tpep_pickup_datetime', 'tpep_dropoff_datetime']].head()\n"
   ]
  },
  {
   "cell_type": "code",
   "execution_count": 10,
   "metadata": {
    "id": "h5L6OdYPqV0N"
   },
   "outputs": [
    {
     "data": {
      "text/html": [
       "<div>\n",
       "<style scoped>\n",
       "    .dataframe tbody tr th:only-of-type {\n",
       "        vertical-align: middle;\n",
       "    }\n",
       "\n",
       "    .dataframe tbody tr th {\n",
       "        vertical-align: top;\n",
       "    }\n",
       "\n",
       "    .dataframe thead th {\n",
       "        text-align: right;\n",
       "    }\n",
       "</style>\n",
       "<table border=\"1\" class=\"dataframe\">\n",
       "  <thead>\n",
       "    <tr style=\"text-align: right;\">\n",
       "      <th></th>\n",
       "      <th>tpep_pickup_datetime</th>\n",
       "      <th>tpep_dropoff_datetime</th>\n",
       "    </tr>\n",
       "  </thead>\n",
       "  <tbody>\n",
       "    <tr>\n",
       "      <th>24870114</th>\n",
       "      <td>2017-03-25 08:55:43</td>\n",
       "      <td>2017-03-25 09:09:47</td>\n",
       "    </tr>\n",
       "    <tr>\n",
       "      <th>35634249</th>\n",
       "      <td>2017-04-11 14:53:28</td>\n",
       "      <td>2017-04-11 15:19:58</td>\n",
       "    </tr>\n",
       "    <tr>\n",
       "      <th>106203690</th>\n",
       "      <td>2017-12-15 07:26:56</td>\n",
       "      <td>2017-12-15 07:34:08</td>\n",
       "    </tr>\n",
       "    <tr>\n",
       "      <th>38942136</th>\n",
       "      <td>2017-05-07 13:17:59</td>\n",
       "      <td>2017-05-07 13:48:14</td>\n",
       "    </tr>\n",
       "    <tr>\n",
       "      <th>30841670</th>\n",
       "      <td>2017-04-15 23:32:20</td>\n",
       "      <td>2017-04-15 23:49:03</td>\n",
       "    </tr>\n",
       "    <tr>\n",
       "      <th>...</th>\n",
       "      <td>...</td>\n",
       "      <td>...</td>\n",
       "    </tr>\n",
       "    <tr>\n",
       "      <th>14873857</th>\n",
       "      <td>2017-02-24 17:37:23</td>\n",
       "      <td>2017-02-24 17:40:39</td>\n",
       "    </tr>\n",
       "    <tr>\n",
       "      <th>66632549</th>\n",
       "      <td>2017-08-06 16:43:59</td>\n",
       "      <td>2017-08-06 17:24:47</td>\n",
       "    </tr>\n",
       "    <tr>\n",
       "      <th>74239933</th>\n",
       "      <td>2017-09-04 14:54:14</td>\n",
       "      <td>2017-09-04 14:58:22</td>\n",
       "    </tr>\n",
       "    <tr>\n",
       "      <th>60217333</th>\n",
       "      <td>2017-07-15 12:56:30</td>\n",
       "      <td>2017-07-15 13:08:26</td>\n",
       "    </tr>\n",
       "    <tr>\n",
       "      <th>17208911</th>\n",
       "      <td>2017-03-02 13:02:49</td>\n",
       "      <td>2017-03-02 13:16:09</td>\n",
       "    </tr>\n",
       "  </tbody>\n",
       "</table>\n",
       "<p>22699 rows × 2 columns</p>\n",
       "</div>"
      ],
      "text/plain": [
       "          tpep_pickup_datetime tpep_dropoff_datetime\n",
       "24870114   2017-03-25 08:55:43   2017-03-25 09:09:47\n",
       "35634249   2017-04-11 14:53:28   2017-04-11 15:19:58\n",
       "106203690  2017-12-15 07:26:56   2017-12-15 07:34:08\n",
       "38942136   2017-05-07 13:17:59   2017-05-07 13:48:14\n",
       "30841670   2017-04-15 23:32:20   2017-04-15 23:49:03\n",
       "...                        ...                   ...\n",
       "14873857   2017-02-24 17:37:23   2017-02-24 17:40:39\n",
       "66632549   2017-08-06 16:43:59   2017-08-06 17:24:47\n",
       "74239933   2017-09-04 14:54:14   2017-09-04 14:58:22\n",
       "60217333   2017-07-15 12:56:30   2017-07-15 13:08:26\n",
       "17208911   2017-03-02 13:02:49   2017-03-02 13:16:09\n",
       "\n",
       "[22699 rows x 2 columns]"
      ]
     },
     "execution_count": 10,
     "metadata": {},
     "output_type": "execute_result"
    }
   ],
   "source": [
    "# Convert datetime columns to datetime\n",
    "df_trips.tpep_pickup_datetime = pd.to_datetime(df_trips['tpep_pickup_datetime'])\n",
    "df_trips.tpep_dropoff_datetime = pd.to_datetime(df_trips['tpep_dropoff_datetime'])\n",
    "df_trips[['tpep_pickup_datetime', 'tpep_dropoff_datetime']]"
   ]
  },
  {
   "cell_type": "markdown",
   "metadata": {
    "id": "KlF7ZNSyW0yV"
   },
   "source": [
    "### Task 2c. Create duration column"
   ]
  },
  {
   "cell_type": "markdown",
   "metadata": {
    "id": "w1v_Y1uunbsx"
   },
   "source": [
    "Create a new column called `duration` that represents the total number of minutes that each taxi ride took."
   ]
  },
  {
   "cell_type": "code",
   "execution_count": 11,
   "metadata": {
    "id": "suC4LJFPMPCo"
   },
   "outputs": [
    {
     "data": {
      "text/plain": [
       "24870114     14.066667\n",
       "35634249     26.500000\n",
       "106203690     7.200000\n",
       "Name: duration, dtype: float64"
      ]
     },
     "execution_count": 11,
     "metadata": {},
     "output_type": "execute_result"
    }
   ],
   "source": [
    "# Create `duration` column\n",
    "timespans = df_trips.tpep_dropoff_datetime - df_trips.tpep_pickup_datetime\n",
    "df_trips.insert(loc=3, column='duration', value=timespans.dt.total_seconds() / 60)\n",
    "df_trips.duration.head(3)"
   ]
  },
  {
   "cell_type": "markdown",
   "metadata": {
    "id": "7dcytBKhiGAr"
   },
   "source": [
    "### Outliers\n",
    "\n",
    "Call `df.info()` to inspect the columns and decide which ones to check for outliers."
   ]
  },
  {
   "cell_type": "code",
   "execution_count": 12,
   "metadata": {
    "id": "W5bCdL5SSfg1"
   },
   "outputs": [
    {
     "name": "stdout",
     "output_type": "stream",
     "text": [
      "<class 'pandas.core.frame.DataFrame'>\n",
      "Int64Index: 22699 entries, 24870114 to 17208911\n",
      "Data columns (total 18 columns):\n",
      " #   Column                 Non-Null Count  Dtype         \n",
      "---  ------                 --------------  -----         \n",
      " 0   VendorID               22699 non-null  int64         \n",
      " 1   tpep_pickup_datetime   22699 non-null  datetime64[ns]\n",
      " 2   tpep_dropoff_datetime  22699 non-null  datetime64[ns]\n",
      " 3   duration               22699 non-null  float64       \n",
      " 4   passenger_count        22699 non-null  int64         \n",
      " 5   trip_distance          22699 non-null  float64       \n",
      " 6   RatecodeID             22699 non-null  int64         \n",
      " 7   store_and_fwd_flag     22699 non-null  object        \n",
      " 8   PULocationID           22699 non-null  int64         \n",
      " 9   DOLocationID           22699 non-null  int64         \n",
      " 10  payment_type           22699 non-null  int64         \n",
      " 11  fare_amount            22699 non-null  float64       \n",
      " 12  extra                  22699 non-null  float64       \n",
      " 13  mta_tax                22699 non-null  float64       \n",
      " 14  tip_amount             22699 non-null  float64       \n",
      " 15  tolls_amount           22699 non-null  float64       \n",
      " 16  improvement_surcharge  22699 non-null  float64       \n",
      " 17  total_amount           22699 non-null  float64       \n",
      "dtypes: datetime64[ns](2), float64(9), int64(6), object(1)\n",
      "memory usage: 3.8+ MB\n"
     ]
    }
   ],
   "source": [
    "df_trips.info()\n"
   ]
  },
  {
   "cell_type": "markdown",
   "metadata": {
    "id": "gS7VR2S0izZE"
   },
   "source": [
    "**Keeping in mind that many of the features will not be used to fit the model, the important columns to check for outliers are likely to be:**\n",
    "* `trip_distance`\n",
    "* `fare_amount`\n",
    "* `duration`\n",
    "\n"
   ]
  },
  {
   "cell_type": "markdown",
   "metadata": {
    "id": "Vtj4iAJMk9Vc"
   },
   "source": [
    "### Task 2d. Box plots\n",
    "\n",
    "Plot a box plot for each feature: `trip_distance`, `fare_amount`, `duration`."
   ]
  },
  {
   "cell_type": "code",
   "execution_count": 13,
   "metadata": {
    "id": "KCEzE-gwL5gq"
   },
   "outputs": [
    {
     "data": {
      "image/png": "[encoded data removed]",
      "text/plain": [
       "<Figure size 504x432 with 3 Axes>"
      ]
     },
     "metadata": {
      "needs_background": "light"
     },
     "output_type": "display_data"
    }
   ],
   "source": [
    "fig, ax = plt.subplots(nrows=3, ncols=1, figsize=(7, 6))\n",
    "for i, col in enumerate(['trip_distance', 'fare_amount', 'duration']):\n",
    "    sns.boxplot(x=df_trips[col], fliersize=1.5, ax=ax[i])\n",
    "    ax[i].set(title='Boxplot of ' + col)\n",
    "fig.tight_layout()"
   ]
  },
  {
   "cell_type": "markdown",
   "metadata": {
    "id": "pqcGiHLa4TvP"
   },
   "source": [
    "**Questions:** \n",
    "1. Which variable(s) contains outliers? \n",
    "\n",
    "2. Are the values in the `trip_distance` column unbelievable?\n",
    "\n",
    "3. What about the lower end? Do distances, fares, and durations of 0 (or negative values) make sense?"
   ]
  },
  {
   "cell_type": "markdown",
   "metadata": {
    "id": "FetTHatPoR6n"
   },
   "source": [
    "- From the viz, all of the variables contain outliers. \n",
    "- It's 30 miles from the southern tip of Staten Island to the northern end of Manhattan and that's in a straight line. With this knowledge and the distribution of the values in this column, it's reasonable to leave these values alone and not alter them.\n",
    "- As identified in earlier EDA activity, the illogical 0 values presented in `trip_distance` were unattended trips charged based on waiting time rate & to the airports respectively. \n",
    "- For the negative fare amounts, there were only few records identified as unassured payments & dispute which may be removed accordingly. \n",
    "- Where, the 0 & negative values in duration are likely due to cause of dispute or unattended trips from `trip_distance` and `fare_amount`.   "
   ]
  },
  {
   "cell_type": "markdown",
   "metadata": {},
   "source": [
    "### Task 2e. Imputations"
   ]
  },
  {
   "cell_type": "markdown",
   "metadata": {},
   "source": [
    "#### `trip_distance` outliers\n",
    "\n",
    "From the summary statistics, there are trip distances of 0. Are these reflective of erroneous data, or are they very short trips that get rounded down?"
   ]
  },
  {
   "cell_type": "code",
   "execution_count": 14,
   "metadata": {},
   "outputs": [
    {
     "data": {
      "text/plain": [
       "[0.0, 0.01, 0.02, 0.03, 0.04, 0.05, 0.06, 0.07, 0.08, 0.09]"
      ]
     },
     "execution_count": 14,
     "metadata": {},
     "output_type": "execute_result"
    }
   ],
   "source": [
    "# Inspect the least 10 unique values to determine if the 0 values are rounded or precise values.\n",
    "sorted(set(df_trips.trip_distance))[:10]\n",
    "\n",
    "# As the trip_distance increases incrementally across the sorted distance record, it is very unlikely the records are rounded values. "
   ]
  },
  {
   "cell_type": "code",
   "execution_count": 15,
   "metadata": {},
   "outputs": [
    {
     "data": {
      "text/plain": [
       "148"
      ]
     },
     "execution_count": 15,
     "metadata": {},
     "output_type": "execute_result"
    }
   ],
   "source": [
    "# Examine the count of rides where `trip_distance` = 0 \n",
    "df_trips.loc[df_trips.trip_distance == 0, 'trip_distance'].count()\n",
    "\n",
    "# With only small no. of records posing a zero-value problem, we can choose to drop the rows \n",
    "# or simply leave them as they are generally not a problem in model fitting for such a big data. "
   ]
  },
  {
   "cell_type": "markdown",
   "metadata": {},
   "source": [
    "#### `fare_amount` outliers"
   ]
  },
  {
   "cell_type": "code",
   "execution_count": 16,
   "metadata": {},
   "outputs": [
    {
     "data": {
      "text/html": [
       "<div>\n",
       "<style scoped>\n",
       "    .dataframe tbody tr th:only-of-type {\n",
       "        vertical-align: middle;\n",
       "    }\n",
       "\n",
       "    .dataframe tbody tr th {\n",
       "        vertical-align: top;\n",
       "    }\n",
       "\n",
       "    .dataframe thead th {\n",
       "        text-align: right;\n",
       "    }\n",
       "</style>\n",
       "<table border=\"1\" class=\"dataframe\">\n",
       "  <thead>\n",
       "    <tr style=\"text-align: right;\">\n",
       "      <th></th>\n",
       "      <th>VendorID</th>\n",
       "      <th>tpep_pickup_datetime</th>\n",
       "      <th>tpep_dropoff_datetime</th>\n",
       "      <th>duration</th>\n",
       "      <th>passenger_count</th>\n",
       "      <th>trip_distance</th>\n",
       "      <th>RatecodeID</th>\n",
       "      <th>store_and_fwd_flag</th>\n",
       "      <th>PULocationID</th>\n",
       "      <th>DOLocationID</th>\n",
       "      <th>payment_type</th>\n",
       "      <th>fare_amount</th>\n",
       "      <th>extra</th>\n",
       "      <th>mta_tax</th>\n",
       "      <th>tip_amount</th>\n",
       "      <th>tolls_amount</th>\n",
       "      <th>improvement_surcharge</th>\n",
       "      <th>total_amount</th>\n",
       "    </tr>\n",
       "  </thead>\n",
       "  <tbody>\n",
       "    <tr>\n",
       "      <th>108016954</th>\n",
       "      <td>2</td>\n",
       "      <td>2017-12-20 16:06:53</td>\n",
       "      <td>2017-12-20 16:47:50</td>\n",
       "      <td>40.950000</td>\n",
       "      <td>1</td>\n",
       "      <td>7.06</td>\n",
       "      <td>1</td>\n",
       "      <td>N</td>\n",
       "      <td>263</td>\n",
       "      <td>169</td>\n",
       "      <td>2</td>\n",
       "      <td>0.0</td>\n",
       "      <td>0.0</td>\n",
       "      <td>0.0</td>\n",
       "      <td>0.0</td>\n",
       "      <td>0.0</td>\n",
       "      <td>0.0</td>\n",
       "      <td>0.0</td>\n",
       "    </tr>\n",
       "    <tr>\n",
       "      <th>49670364</th>\n",
       "      <td>2</td>\n",
       "      <td>2017-06-12 12:08:55</td>\n",
       "      <td>2017-06-12 12:08:57</td>\n",
       "      <td>0.033333</td>\n",
       "      <td>1</td>\n",
       "      <td>0.00</td>\n",
       "      <td>1</td>\n",
       "      <td>N</td>\n",
       "      <td>264</td>\n",
       "      <td>193</td>\n",
       "      <td>1</td>\n",
       "      <td>0.0</td>\n",
       "      <td>0.0</td>\n",
       "      <td>0.0</td>\n",
       "      <td>0.0</td>\n",
       "      <td>0.0</td>\n",
       "      <td>0.0</td>\n",
       "      <td>0.0</td>\n",
       "    </tr>\n",
       "    <tr>\n",
       "      <th>26005024</th>\n",
       "      <td>2</td>\n",
       "      <td>2017-03-30 03:14:26</td>\n",
       "      <td>2017-03-30 03:14:28</td>\n",
       "      <td>0.033333</td>\n",
       "      <td>1</td>\n",
       "      <td>0.00</td>\n",
       "      <td>1</td>\n",
       "      <td>N</td>\n",
       "      <td>264</td>\n",
       "      <td>193</td>\n",
       "      <td>1</td>\n",
       "      <td>0.0</td>\n",
       "      <td>0.0</td>\n",
       "      <td>0.0</td>\n",
       "      <td>0.0</td>\n",
       "      <td>0.0</td>\n",
       "      <td>0.0</td>\n",
       "      <td>0.0</td>\n",
       "    </tr>\n",
       "    <tr>\n",
       "      <th>19022898</th>\n",
       "      <td>2</td>\n",
       "      <td>2017-03-07 02:24:47</td>\n",
       "      <td>2017-03-07 02:24:50</td>\n",
       "      <td>0.050000</td>\n",
       "      <td>1</td>\n",
       "      <td>0.00</td>\n",
       "      <td>1</td>\n",
       "      <td>N</td>\n",
       "      <td>264</td>\n",
       "      <td>193</td>\n",
       "      <td>1</td>\n",
       "      <td>0.0</td>\n",
       "      <td>0.0</td>\n",
       "      <td>0.0</td>\n",
       "      <td>0.0</td>\n",
       "      <td>0.0</td>\n",
       "      <td>0.0</td>\n",
       "      <td>0.0</td>\n",
       "    </tr>\n",
       "  </tbody>\n",
       "</table>\n",
       "</div>"
      ],
      "text/plain": [
       "           VendorID tpep_pickup_datetime tpep_dropoff_datetime   duration  \\\n",
       "108016954         2  2017-12-20 16:06:53   2017-12-20 16:47:50  40.950000   \n",
       "49670364          2  2017-06-12 12:08:55   2017-06-12 12:08:57   0.033333   \n",
       "26005024          2  2017-03-30 03:14:26   2017-03-30 03:14:28   0.033333   \n",
       "19022898          2  2017-03-07 02:24:47   2017-03-07 02:24:50   0.050000   \n",
       "\n",
       "           passenger_count  trip_distance  RatecodeID store_and_fwd_flag  \\\n",
       "108016954                1           7.06           1                  N   \n",
       "49670364                 1           0.00           1                  N   \n",
       "26005024                 1           0.00           1                  N   \n",
       "19022898                 1           0.00           1                  N   \n",
       "\n",
       "           PULocationID  DOLocationID  payment_type  fare_amount  extra  \\\n",
       "108016954           263           169             2          0.0    0.0   \n",
       "49670364            264           193             1          0.0    0.0   \n",
       "26005024            264           193             1          0.0    0.0   \n",
       "19022898            264           193             1          0.0    0.0   \n",
       "\n",
       "           mta_tax  tip_amount  tolls_amount  improvement_surcharge  \\\n",
       "108016954      0.0         0.0           0.0                    0.0   \n",
       "49670364       0.0         0.0           0.0                    0.0   \n",
       "26005024       0.0         0.0           0.0                    0.0   \n",
       "19022898       0.0         0.0           0.0                    0.0   \n",
       "\n",
       "           total_amount  \n",
       "108016954           0.0  \n",
       "49670364            0.0  \n",
       "26005024            0.0  \n",
       "19022898            0.0  "
      ]
     },
     "execution_count": 16,
     "metadata": {},
     "output_type": "execute_result"
    }
   ],
   "source": [
    "df_trips.loc[((df_trips.fare_amount <= 0) & (~df_trips.payment_type.isin([3, 4])))]\n"
   ]
  },
  {
   "cell_type": "code",
   "execution_count": 17,
   "metadata": {},
   "outputs": [
    {
     "data": {
      "text/plain": [
       "0.9963875060575356"
      ]
     },
     "execution_count": 17,
     "metadata": {},
     "output_type": "execute_result"
    }
   ],
   "source": [
    "# Inspect the proportion of fare amount below cap of $62.50 \n",
    "(df_trips.fare_amount <= 62.5).mean()"
   ]
  },
  {
   "cell_type": "markdown",
   "metadata": {},
   "source": [
    "**Question:** What can be noticed about the values in the `fare_amount` column?\n",
    "\n",
    "The range of values in the `fare_amount` column is large and the extremes don't make much sense.\n",
    "\n",
    "- **Low values:** The negative values in `fare_amount` are either dispute or invalid cash or   credit card entries without any charges could be legitimate from a logged trips that was cancelled immediately. \n",
    "\n",
    "- **High values:** The maximum fare amount is nearly \\\\$1,000, which seems very unlikely. High values for this feature can be capped based on intuition and statistics. The interquartile range (IQR) is \\\\$8. The standard formula of `Q3 + (1.5 * IQR)` yields \\$26.50. That doesn't seem appropriate for the maximum fare cap. In this case, we'll use a factor of `6` {99.6%}, which results in a cap of $62.50."
   ]
  },
  {
   "cell_type": "code",
   "execution_count": 18,
   "metadata": {},
   "outputs": [
    {
     "data": {
      "text/plain": [
       "False"
      ]
     },
     "execution_count": 18,
     "metadata": {},
     "output_type": "execute_result"
    }
   ],
   "source": [
    "# Impute values less than $0 with 0\n",
    "df_trips.loc[df_trips.fare_amount < 0, 'fare_amount'] = 0\n",
    "\n",
    "# Validate if the imputation is implemented correctly\n",
    "df_trips[df_trips.fare_amount < 0].index.any()"
   ]
  },
  {
   "cell_type": "markdown",
   "metadata": {},
   "source": [
    "A helper function can be defined to ease the imputation of upper-limit values for multiple columns.   "
   ]
  },
  {
   "cell_type": "code",
   "execution_count": 19,
   "metadata": {},
   "outputs": [],
   "source": [
    "def bounding_outliers(column_list, *, iqr_factor=1.5):\n",
    "    '''\n",
    "    Impute upper-limit values in specified columns based on their interquartile range.\n",
    "\n",
    "    Arguments:\n",
    "        column_list: A list of columns to iterate over\n",
    "        iqr_factor: A number representing x in the formula:\n",
    "                    Q3 + (x * IQR). Used to determine maximum threshold,\n",
    "                    beyond which a point is considered an outlier.\n",
    "\n",
    "    The IQR is computed for each column in column_list and values exceeding\n",
    "    the upper threshold for each column are imputed with the upper threshold value.\n",
    "    '''\n",
    "    copy_list = column_list.copy()\n",
    "    \n",
    "    # Set up an explicit data structure internally to warrant consistency.  \n",
    "    if isinstance(column_list, pd.Series):\n",
    "        copy_list = copy_list.to_frame()\n",
    "    \n",
    "    for col in copy_list:\n",
    "        iqr = copy_list[col].quantile(0.75) - copy_list[col].quantile(0.25)\n",
    "        # Reassign minimum to zero\n",
    "        copy_list[col] = np.where(copy_list[col] < 0, 0, copy_list[col])    \n",
    "\n",
    "        # Calculate upper threshold\n",
    "        upper_thres = copy_list[col].quantile(0.75) + (iqr_factor * iqr)\n",
    "\n",
    "        # Reassign values > threshold to threshold\n",
    "        copy_list[col] = np.where(copy_list[col] > upper_thres, upper_thres, copy_list[col])\n",
    "    \n",
    "    return copy_list\n"
   ]
  },
  {
   "cell_type": "markdown",
   "metadata": {},
   "source": [
    "#### `duration` outliers\n"
   ]
  },
  {
   "cell_type": "code",
   "execution_count": 20,
   "metadata": {},
   "outputs": [
    {
     "data": {
      "text/plain": [
       "count    22699.000000\n",
       "mean        17.013777\n",
       "std         61.996482\n",
       "min        -16.983333\n",
       "25%          6.650000\n",
       "50%         11.183333\n",
       "75%         18.383333\n",
       "max       1439.550000\n",
       "Name: duration, dtype: float64"
      ]
     },
     "execution_count": 20,
     "metadata": {},
     "output_type": "execute_result"
    }
   ],
   "source": [
    "# Call .describe() for duration outliers\n",
    "df_trips['duration'].describe()"
   ]
  },
  {
   "cell_type": "markdown",
   "metadata": {},
   "source": [
    "The `duration` column has problematic values at both the lower and upper extremities.\n",
    "\n",
    "* **Low values:** There should be no values that represent negative time. Impute all negative durations with `0`.\n",
    "\n",
    "* **High values:** Impute high values the same way you imputed the high-end outliers for fares: `Q3 + (6 * IQR)`."
   ]
  },
  {
   "cell_type": "code",
   "execution_count": 21,
   "metadata": {},
   "outputs": [
    {
     "data": {
      "text/plain": [
       "0.0"
      ]
     },
     "execution_count": 21,
     "metadata": {},
     "output_type": "execute_result"
    }
   ],
   "source": [
    "# Impute a 0 for any negative values\n",
    "df_trips.loc[df_trips.duration < 0, 'duration'] = 0\n",
    "\n",
    "# Validate if all the negative duration values are rectified\n",
    "df_trips.duration.min()"
   ]
  },
  {
   "cell_type": "code",
   "execution_count": 22,
   "metadata": {},
   "outputs": [],
   "source": [
    "# Impute the outliers of duration & fare as Q3 + (6 * IQR)\n",
    "df_trips[['fare_amount', 'duration']] = bounding_outliers(df_trips[['fare_amount', 'duration']], iqr_factor=6)"
   ]
  },
  {
   "cell_type": "markdown",
   "metadata": {},
   "source": [
    "### Task 3. Feature engineering"
   ]
  },
  {
   "cell_type": "markdown",
   "metadata": {},
   "source": [
    "#### Create `mean_distance` column\n",
    "\n",
    "When deployed, the model will not know the exact duration of a trip until after the trip occurs, so this feature can be misleading if it is used in a model training. However, the statistics of trips known may be used to generalize about ones that we do not know.\n",
    "\n",
    "In this step, a column called `mean_distance` that captures the mean distance for each group of trips that share the common pickup and dropoff points is created."
   ]
  },
  {
   "cell_type": "code",
   "execution_count": 23,
   "metadata": {},
   "outputs": [
    {
     "data": {
      "text/plain": [
       "24870114     100 231\n",
       "35634249      186 43\n",
       "106203690    262 236\n",
       "38942136      188 97\n",
       "30841670       4 112\n",
       "              ...   \n",
       "14873857      48 186\n",
       "66632549     132 164\n",
       "74239933     107 234\n",
       "60217333      68 144\n",
       "17208911     239 236\n",
       "Name: pickup_dropoff, Length: 22699, dtype: object"
      ]
     },
     "execution_count": 23,
     "metadata": {},
     "output_type": "execute_result"
    }
   ],
   "source": [
    "# Create `pickup_dropoff` column\n",
    "df_trips = df_trips.astype({'PULocationID': str, 'DOLocationID': str})\n",
    "df_trips.insert(loc=10, column='pickup_dropoff', value=df_trips['PULocationID'] + ' ' + df_trips['DOLocationID'])\n",
    "df_trips.pickup_dropoff"
   ]
  },
  {
   "cell_type": "code",
   "execution_count": 24,
   "metadata": {},
   "outputs": [
    {
     "data": {
      "text/html": [
       "<div>\n",
       "<style scoped>\n",
       "    .dataframe tbody tr th:only-of-type {\n",
       "        vertical-align: middle;\n",
       "    }\n",
       "\n",
       "    .dataframe tbody tr th {\n",
       "        vertical-align: top;\n",
       "    }\n",
       "\n",
       "    .dataframe thead th {\n",
       "        text-align: right;\n",
       "    }\n",
       "</style>\n",
       "<table border=\"1\" class=\"dataframe\">\n",
       "  <thead>\n",
       "    <tr style=\"text-align: right;\">\n",
       "      <th></th>\n",
       "      <th>trip_distance</th>\n",
       "    </tr>\n",
       "    <tr>\n",
       "      <th>pickup_dropoff</th>\n",
       "      <th></th>\n",
       "    </tr>\n",
       "  </thead>\n",
       "  <tbody>\n",
       "    <tr>\n",
       "      <th>1 1</th>\n",
       "      <td>2.433333</td>\n",
       "    </tr>\n",
       "    <tr>\n",
       "      <th>10 148</th>\n",
       "      <td>15.700000</td>\n",
       "    </tr>\n",
       "    <tr>\n",
       "      <th>100 1</th>\n",
       "      <td>16.890000</td>\n",
       "    </tr>\n",
       "  </tbody>\n",
       "</table>\n",
       "</div>"
      ],
      "text/plain": [
       "                trip_distance\n",
       "pickup_dropoff               \n",
       "1 1                  2.433333\n",
       "10 148              15.700000\n",
       "100 1               16.890000"
      ]
     },
     "execution_count": 24,
     "metadata": {},
     "output_type": "execute_result"
    }
   ],
   "source": [
    "# Group by the unique pairs and compute the mean values\n",
    "grouped = df_trips[['pickup_dropoff', 'trip_distance']].groupby(by='pickup_dropoff').mean()\n",
    "grouped.head(3)"
   ]
  },
  {
   "cell_type": "code",
   "execution_count": 25,
   "metadata": {},
   "outputs": [],
   "source": [
    "# 1. Convert `grouped` to a dictionary\n",
    "grouped_dict = grouped.to_dict()\n",
    "\n",
    "# 2. Reassign to only contain the inner dictionary\n",
    "grouped_dict = grouped_dict['trip_distance']"
   ]
  },
  {
   "cell_type": "code",
   "execution_count": 26,
   "metadata": {},
   "outputs": [
    {
     "data": {
      "text/plain": [
       "24870114    3.521667\n",
       "96629892    3.521667\n",
       "48945131    3.521667\n",
       "50574134    3.521667\n",
       "7282051     3.521667\n",
       "49385419    3.521667\n",
       "Name: mean_distance, dtype: float64"
      ]
     },
     "execution_count": 26,
     "metadata": {},
     "output_type": "execute_result"
    }
   ],
   "source": [
    "# 3. Create a mean_distance column that is a copy of the pickup_dropoff helper column\n",
    "df_trips.rename(columns={'pickup_dropoff': 'mean_distance'}, inplace=True)\n",
    "\n",
    "# Map `grouped_dict` to the `mean_distance` column\n",
    "df_trips['mean_distance'] = df_trips['mean_distance'].map(grouped_dict)\n",
    "\n",
    "# Confirm that it worked\n",
    "df_trips.loc[((df_trips.PULocationID == '100') & (df_trips.DOLocationID == '231')), 'mean_distance']\n"
   ]
  },
  {
   "cell_type": "markdown",
   "metadata": {},
   "source": [
    "#### Create `mean_duration` column\n",
    "\n",
    "The process is repeated to create a `mean_duration` column."
   ]
  },
  {
   "cell_type": "code",
   "execution_count": 27,
   "metadata": {},
   "outputs": [
    {
     "data": {
      "text/plain": [
       "24870114    22.847222\n",
       "96629892    22.847222\n",
       "48945131    22.847222\n",
       "50574134    22.847222\n",
       "7282051     22.847222\n",
       "49385419    22.847222\n",
       "Name: mean_duration, dtype: float64"
      ]
     },
     "execution_count": 27,
     "metadata": {},
     "output_type": "execute_result"
    }
   ],
   "source": [
    "df_trips.insert(loc=10, column='mean_duration', value=df_trips['PULocationID'] + ' ' + df_trips['DOLocationID'])\n",
    "grouped_duration = df_trips[['mean_duration', 'duration']].groupby(by='mean_duration').mean()\n",
    "\n",
    "df_trips.mean_duration = df_trips['mean_duration'].map(grouped_duration.to_dict()['duration'])\n",
    "\n",
    "# Verify the feature engineering of mean_duration\n",
    "df_trips.loc[(df_trips.PULocationID == '100') & (df_trips.DOLocationID == '231'), 'mean_duration']"
   ]
  },
  {
   "cell_type": "markdown",
   "metadata": {},
   "source": [
    "**Note:**\n",
    "- When the `mean_distance` and `mean_duration` columns were computed, the means were calculated from the entire dataset. These same columns were then used to train a model that was used to predict on a test set. A test set is supposed to represent entirely new data that the model has not seen before, but in this case, some of its predictor variables were derived using data that *was* in the test set.</br></br>\n",
    "This is known as **<u>data leakage</u>**. Data leakage is when information from the training data contaminates the test data. If the model has unexpectedly high scores, there is a good chance that there was some data leakage.\n",
    "</br></br>\n",
    "To avoid data leakage in this modeling process, it would be best to compute the means using only the training set and then copy those into the test set, thus preventing values from the test set from being included in the computation of the means. This would have created some problems because it's very likely that some combinations of pickup-dropoff locations would only appear in the test data (not the train data). This means that there would be NaNs in the test data, and further steps would be required to address this.\n",
    "</br></br>"
   ]
  },
  {
   "cell_type": "markdown",
   "metadata": {},
   "source": [
    "#### Create `day` and `month` columns"
   ]
  },
  {
   "cell_type": "code",
   "execution_count": 28,
   "metadata": {
    "tags": []
   },
   "outputs": [],
   "source": [
    "# Create 'day' col\n",
    "df_trips.insert(4, 'DayofWeek', df_trips['tpep_pickup_datetime'].dt.strftime('%a'))\n",
    "\n",
    "# Create 'month' col\n",
    "df_trips.insert(5, 'Month_name', df_trips['tpep_pickup_datetime'].dt.strftime('%b'))"
   ]
  },
  {
   "cell_type": "markdown",
   "metadata": {},
   "source": [
    "#### Create `rush_hour` column\n",
    "\n",
    "Define rush hour as:\n",
    "* Any weekday (not Saturday or Sunday) AND\n",
    "* Either from 06:00&ndash;10:00 or from 16:00&ndash;20:00\n",
    "\n",
    "Create a binary `rush_hour` column that contains a 1 if the ride was during rush hour and a 0 if it was not."
   ]
  },
  {
   "cell_type": "code",
   "execution_count": 29,
   "metadata": {},
   "outputs": [
    {
     "data": {
      "text/html": [
       "<div>\n",
       "<style scoped>\n",
       "    .dataframe tbody tr th:only-of-type {\n",
       "        vertical-align: middle;\n",
       "    }\n",
       "\n",
       "    .dataframe tbody tr th {\n",
       "        vertical-align: top;\n",
       "    }\n",
       "\n",
       "    .dataframe thead th {\n",
       "        text-align: right;\n",
       "    }\n",
       "</style>\n",
       "<table border=\"1\" class=\"dataframe\">\n",
       "  <thead>\n",
       "    <tr style=\"text-align: right;\">\n",
       "      <th></th>\n",
       "      <th>tpep_pickup_datetime</th>\n",
       "      <th>rush_hour</th>\n",
       "    </tr>\n",
       "  </thead>\n",
       "  <tbody>\n",
       "    <tr>\n",
       "      <th>106203690</th>\n",
       "      <td>2017-12-15 07:26:56</td>\n",
       "      <td>1</td>\n",
       "    </tr>\n",
       "    <tr>\n",
       "      <th>37660487</th>\n",
       "      <td>2017-05-03 19:04:09</td>\n",
       "      <td>1</td>\n",
       "    </tr>\n",
       "    <tr>\n",
       "      <th>69059411</th>\n",
       "      <td>2017-08-15 17:41:06</td>\n",
       "      <td>1</td>\n",
       "    </tr>\n",
       "    <tr>\n",
       "      <th>46782248</th>\n",
       "      <td>2017-06-09 19:00:26</td>\n",
       "      <td>1</td>\n",
       "    </tr>\n",
       "    <tr>\n",
       "      <th>47444401</th>\n",
       "      <td>2017-06-02 06:41:39</td>\n",
       "      <td>1</td>\n",
       "    </tr>\n",
       "    <tr>\n",
       "      <th>...</th>\n",
       "      <td>...</td>\n",
       "      <td>...</td>\n",
       "    </tr>\n",
       "    <tr>\n",
       "      <th>56013080</th>\n",
       "      <td>2017-06-09 18:24:49</td>\n",
       "      <td>1</td>\n",
       "    </tr>\n",
       "    <tr>\n",
       "      <th>65803597</th>\n",
       "      <td>2017-08-03 17:30:04</td>\n",
       "      <td>1</td>\n",
       "    </tr>\n",
       "    <tr>\n",
       "      <th>65789688</th>\n",
       "      <td>2017-08-03 16:36:32</td>\n",
       "      <td>1</td>\n",
       "    </tr>\n",
       "    <tr>\n",
       "      <th>9039930</th>\n",
       "      <td>2017-02-08 18:13:26</td>\n",
       "      <td>1</td>\n",
       "    </tr>\n",
       "    <tr>\n",
       "      <th>14873857</th>\n",
       "      <td>2017-02-24 17:37:23</td>\n",
       "      <td>1</td>\n",
       "    </tr>\n",
       "  </tbody>\n",
       "</table>\n",
       "<p>6736 rows × 2 columns</p>\n",
       "</div>"
      ],
      "text/plain": [
       "          tpep_pickup_datetime  rush_hour\n",
       "106203690  2017-12-15 07:26:56          1\n",
       "37660487   2017-05-03 19:04:09          1\n",
       "69059411   2017-08-15 17:41:06          1\n",
       "46782248   2017-06-09 19:00:26          1\n",
       "47444401   2017-06-02 06:41:39          1\n",
       "...                        ...        ...\n",
       "56013080   2017-06-09 18:24:49          1\n",
       "65803597   2017-08-03 17:30:04          1\n",
       "65789688   2017-08-03 16:36:32          1\n",
       "9039930    2017-02-08 18:13:26          1\n",
       "14873857   2017-02-24 17:37:23          1\n",
       "\n",
       "[6736 rows x 2 columns]"
      ]
     },
     "execution_count": 29,
     "metadata": {},
     "output_type": "execute_result"
    }
   ],
   "source": [
    "# Create 'rush_hour' col\n",
    "df_trips['rush_hour'] = 1\n",
    "\n",
    "# If day is Saturday or Sunday, impute 0 in `rush_hour` column\n",
    "weekend, heavy_hours = ['Sat', 'Sun'], [6, 7, 8, 9, 16, 17, 18, 19] \n",
    "df_trips.loc[df_trips.DayofWeek.isin(weekend), 'rush_hour'] = 0\n",
    "df_trips.loc[(~df_trips.tpep_pickup_datetime.dt.hour.isin(heavy_hours)), 'rush_hour'] = 0\n",
    "\n",
    "# Validate if 'rush_hour' column is implemented correctly\n",
    "df_trips.loc[df_trips['rush_hour'] == 1, ['tpep_pickup_datetime', 'rush_hour']]"
   ]
  },
  {
   "cell_type": "markdown",
   "metadata": {},
   "source": [
    "### Task 4. Feature Selection\n",
    "\n",
    "Create a scatterplot to visualize the relationship between a numerical variable-`mean_duration` and target-`fare_amount`."
   ]
  },
  {
   "cell_type": "code",
   "execution_count": 30,
   "metadata": {},
   "outputs": [
    {
     "data": {
      "image/png": "[encoded data removed]",
      "text/plain": [
       "<Figure size 360x360 with 1 Axes>"
      ]
     },
     "metadata": {},
     "output_type": "display_data"
    }
   ],
   "source": [
    "# Create a scatterplot for the variables of interest\n",
    "sns.set(style='whitegrid')\n",
    "fig = plt.figure()\n",
    "fig.set_figwidth(5)\n",
    "fig.set_figheight(5)\n",
    "sns.regplot(x=df_trips.mean_duration, y=df_trips.fare_amount, ci=95,\n",
    "            scatter_kws={'alpha': 0.5, 's': 5},\n",
    "            line_kws={'color': 'k'})\n",
    "plt.ylim(0, 70); plt.xlim(0, 70)\n",
    "plt.title('Mean Duration vs. Fare Amount')\n",
    "plt.show()"
   ]
  },
  {
   "cell_type": "markdown",
   "metadata": {},
   "source": [
    "The `mean_duration` variable correlates with the target variable. There are two horizontal lines around fare amounts of 52 dollars and 63 dollars. It's known that the top line represents \\$62.50 maximum bounding value that was imputed for outliers.   \n",
    "But what is the other line and how many are there?\n",
    "\n",
    "Check the value of the rides in the second horizontal line in the scatter plot."
   ]
  },
  {
   "cell_type": "code",
   "execution_count": 31,
   "metadata": {},
   "outputs": [
    {
     "data": {
      "text/plain": [
       "52.0    514\n",
       "62.5     84\n",
       "59.0      9\n",
       "50.5      9\n",
       "57.5      8\n",
       "51.0      7\n",
       "60.0      6\n",
       "55.0      6\n",
       "51.5      6\n",
       "53.0      4\n",
       "52.5      4\n",
       "61.0      3\n",
       "62.0      3\n",
       "55.5      3\n",
       "56.0      3\n",
       "56.5      3\n",
       "58.5      2\n",
       "59.5      2\n",
       "61.5      2\n",
       "57.0      2\n",
       "54.0      2\n",
       "58.0      1\n",
       "54.7      1\n",
       "54.5      1\n",
       "Name: fare_amount, dtype: int64"
      ]
     },
     "execution_count": 31,
     "metadata": {},
     "output_type": "execute_result"
    }
   ],
   "source": [
    "df_trips.loc[df_trips.fare_amount > 50, 'fare_amount'].value_counts()"
   ]
  },
  {
   "cell_type": "markdown",
   "metadata": {},
   "source": [
    "Examine the first 30 of these trips."
   ]
  },
  {
   "cell_type": "code",
   "execution_count": 32,
   "metadata": {},
   "outputs": [
    {
     "data": {
      "text/plain": [
       "2    513\n",
       "1      1\n",
       "Name: RatecodeID, dtype: int64"
      ]
     },
     "execution_count": 32,
     "metadata": {},
     "output_type": "execute_result"
    }
   ],
   "source": [
    "# Set pandas to display all columns\n",
    "pd.set_option('display.max_columns', None)\n",
    "df_trips.loc[df_trips.fare_amount == 52.0, 'RatecodeID'].value_counts()"
   ]
  },
  {
   "cell_type": "markdown",
   "metadata": {},
   "source": [
    "**Question:** What do you notice about the first 30 trips?\n",
    "\n",
    "==> Most of the data points around fare amount of 52 dollars are attributed to JFK, which is Joh F. Kennedy International Airport and they're likely to be the flat rate of taxi taken by the tourists to the airport.  "
   ]
  },
  {
   "cell_type": "markdown",
   "metadata": {},
   "source": [
    "### Task 4a. Isolate modeling variables\n",
    "\n",
    "Drop features that are redundant, irrelevant, or that will not be available in a deployed environment."
   ]
  },
  {
   "cell_type": "code",
   "execution_count": 33,
   "metadata": {},
   "outputs": [],
   "source": [
    "predictors = ['mean_duration', 'mean_distance', \n",
    "              'passenger_count', 'VendorID', 'rush_hour']\n",
    "target = ['fare_amount']"
   ]
  },
  {
   "cell_type": "code",
   "execution_count": 34,
   "metadata": {},
   "outputs": [],
   "source": [
    "df_model = df_trips[predictors+target].copy()"
   ]
  },
  {
   "cell_type": "markdown",
   "metadata": {},
   "source": [
    "### Task 4b. Pair plot\n",
    "\n",
    "Create a pairplot to visualize pairwise relationships between the numerical variables of interest: `fare_amount`, `mean_duration`, and `mean_distance`."
   ]
  },
  {
   "cell_type": "code",
   "execution_count": 35,
   "metadata": {},
   "outputs": [
    {
     "data": {
      "image/png": "[encoded data removed]",
      "text/plain": [
       "<Figure size 540x540 with 12 Axes>"
      ]
     },
     "metadata": {},
     "output_type": "display_data"
    }
   ],
   "source": [
    "# Create a pairplot to visualize pairwise relationships between variables in the data\n",
    "ax = sns.pairplot(df_model[['fare_amount', 'mean_duration', 'mean_distance']])\n"
   ]
  },
  {
   "cell_type": "markdown",
   "metadata": {},
   "source": [
    "These variables all show linear correlation with each other. Investigate this further."
   ]
  },
  {
   "cell_type": "code",
   "execution_count": 36,
   "metadata": {},
   "outputs": [
    {
     "data": {
      "image/png": "[encoded data removed]",
      "text/plain": [
       "<Figure size 432x288 with 1 Axes>"
      ]
     },
     "metadata": {},
     "output_type": "display_data"
    }
   ],
   "source": [
    "# Examine the relationship between Categorical & Numerical variables.\n",
    "rush_ax = sns.boxplot(x=df_model['rush_hour'], y=df_model['fare_amount'])\n",
    "rush_ax.set(title='Boxplot of Rush Hour trips on Fare Amount')\n",
    "plt.show()"
   ]
  },
  {
   "cell_type": "code",
   "execution_count": 37,
   "metadata": {},
   "outputs": [
    {
     "data": {
      "image/png": "[encoded data removed]",
      "text/plain": [
       "<Figure size 432x288 with 1 Axes>"
      ]
     },
     "metadata": {},
     "output_type": "display_data"
    }
   ],
   "source": [
    "passenger_ax = sns.boxplot(x=df_model['passenger_count'], y=df_model['fare_amount'])\n",
    "passenger_ax.set(title='Boxplot of Passenger Count variance on Fare Amount')\n",
    "plt.show()"
   ]
  },
  {
   "cell_type": "markdown",
   "metadata": {},
   "source": [
    "### Task 4c. Identify correlations"
   ]
  },
  {
   "cell_type": "markdown",
   "metadata": {},
   "source": [
    "Next, code a correlation matrix to help determine most correlated variables."
   ]
  },
  {
   "cell_type": "code",
   "execution_count": 38,
   "metadata": {},
   "outputs": [
    {
     "data": {
      "text/html": [
       "<div>\n",
       "<style scoped>\n",
       "    .dataframe tbody tr th:only-of-type {\n",
       "        vertical-align: middle;\n",
       "    }\n",
       "\n",
       "    .dataframe tbody tr th {\n",
       "        vertical-align: top;\n",
       "    }\n",
       "\n",
       "    .dataframe thead th {\n",
       "        text-align: right;\n",
       "    }\n",
       "</style>\n",
       "<table border=\"1\" class=\"dataframe\">\n",
       "  <thead>\n",
       "    <tr style=\"text-align: right;\">\n",
       "      <th></th>\n",
       "      <th>mean_duration</th>\n",
       "      <th>mean_distance</th>\n",
       "      <th>passenger_count</th>\n",
       "      <th>VendorID</th>\n",
       "      <th>rush_hour</th>\n",
       "      <th>fare_amount</th>\n",
       "    </tr>\n",
       "  </thead>\n",
       "  <tbody>\n",
       "    <tr>\n",
       "      <th>mean_duration</th>\n",
       "      <td>1.000000</td>\n",
       "      <td>0.874864</td>\n",
       "      <td>0.015852</td>\n",
       "      <td>0.001876</td>\n",
       "      <td>-0.021583</td>\n",
       "      <td>0.859105</td>\n",
       "    </tr>\n",
       "    <tr>\n",
       "      <th>mean_distance</th>\n",
       "      <td>0.874864</td>\n",
       "      <td>1.000000</td>\n",
       "      <td>0.013428</td>\n",
       "      <td>0.004741</td>\n",
       "      <td>-0.039725</td>\n",
       "      <td>0.910185</td>\n",
       "    </tr>\n",
       "    <tr>\n",
       "      <th>passenger_count</th>\n",
       "      <td>0.015852</td>\n",
       "      <td>0.013428</td>\n",
       "      <td>1.000000</td>\n",
       "      <td>0.266463</td>\n",
       "      <td>-0.022035</td>\n",
       "      <td>0.014942</td>\n",
       "    </tr>\n",
       "    <tr>\n",
       "      <th>VendorID</th>\n",
       "      <td>0.001876</td>\n",
       "      <td>0.004741</td>\n",
       "      <td>0.266463</td>\n",
       "      <td>1.000000</td>\n",
       "      <td>-0.002874</td>\n",
       "      <td>0.001045</td>\n",
       "    </tr>\n",
       "    <tr>\n",
       "      <th>rush_hour</th>\n",
       "      <td>-0.021583</td>\n",
       "      <td>-0.039725</td>\n",
       "      <td>-0.022035</td>\n",
       "      <td>-0.002874</td>\n",
       "      <td>1.000000</td>\n",
       "      <td>-0.020075</td>\n",
       "    </tr>\n",
       "    <tr>\n",
       "      <th>fare_amount</th>\n",
       "      <td>0.859105</td>\n",
       "      <td>0.910185</td>\n",
       "      <td>0.014942</td>\n",
       "      <td>0.001045</td>\n",
       "      <td>-0.020075</td>\n",
       "      <td>1.000000</td>\n",
       "    </tr>\n",
       "  </tbody>\n",
       "</table>\n",
       "</div>"
      ],
      "text/plain": [
       "                 mean_duration  mean_distance  passenger_count  VendorID  \\\n",
       "mean_duration         1.000000       0.874864         0.015852  0.001876   \n",
       "mean_distance         0.874864       1.000000         0.013428  0.004741   \n",
       "passenger_count       0.015852       0.013428         1.000000  0.266463   \n",
       "VendorID              0.001876       0.004741         0.266463  1.000000   \n",
       "rush_hour            -0.021583      -0.039725        -0.022035 -0.002874   \n",
       "fare_amount           0.859105       0.910185         0.014942  0.001045   \n",
       "\n",
       "                 rush_hour  fare_amount  \n",
       "mean_duration    -0.021583     0.859105  \n",
       "mean_distance    -0.039725     0.910185  \n",
       "passenger_count  -0.022035     0.014942  \n",
       "VendorID         -0.002874     0.001045  \n",
       "rush_hour         1.000000    -0.020075  \n",
       "fare_amount      -0.020075     1.000000  "
      ]
     },
     "execution_count": 38,
     "metadata": {},
     "output_type": "execute_result"
    }
   ],
   "source": [
    "# Correlation matrix to help determine most correlated variables\n",
    "df_trips[predictors+target].corr()"
   ]
  },
  {
   "cell_type": "markdown",
   "metadata": {},
   "source": [
    "Visualize a correlation heatmap of the data."
   ]
  },
  {
   "cell_type": "code",
   "execution_count": 39,
   "metadata": {},
   "outputs": [
    {
     "data": {
      "image/png": "[encoded data removed]",
      "text/plain": [
       "<Figure size 432x288 with 2 Axes>"
      ]
     },
     "metadata": {},
     "output_type": "display_data"
    }
   ],
   "source": [
    "# Create correlation heatmap\n",
    "corr_heatmap = sns.heatmap(df_trips[predictors+target].corr(), annot=True, cmap='Reds')\n",
    "plt.title('Correlation Heatmap', y=1.05, fontsize=18)\n",
    "plt.show()"
   ]
  },
  {
   "cell_type": "markdown",
   "metadata": {},
   "source": [
    "- Both `mean_distance` & `mean_duration` are correlated with `fare_amount`, but they also correlated to each other which is undesirable as it is likely to introduce multi-collinearity. \n",
    "- While `passenger_count` & `rush_hour` do not illustrate a significant effect & strong association with the target, they may be ignored or selectively included as covariates.\n",
    "\n",
    "However, correlated predictor variables can still be used to create an accurate predictor if the prediction itself is more important than using the model as a tool to draw statistical inference about data.\n",
    "\n",
    "Hence, try modeling with both variables even though they are correlated."
   ]
  },
  {
   "cell_type": "markdown",
   "metadata": {
    "id": "lgPul2DiY6T4"
   },
   "source": [
    "<img src=\"images/Construct.png\" width=\"100\" height=\"100\" align=left>\n",
    "\n",
    "## PACE: **Construct**\n",
    "\n",
    "After analysis and deriving variables with close relationships, it is time to begin constructing the model."
   ]
  },
  {
   "cell_type": "markdown",
   "metadata": {
    "id": "P_QYzJfVUrIc"
   },
   "source": [
    "### Task 5a. Split data into outcome variable and features"
   ]
  },
  {
   "cell_type": "code",
   "execution_count": 40,
   "metadata": {
    "id": "AzcDgLRET4d7"
   },
   "outputs": [
    {
     "name": "stdout",
     "output_type": "stream",
     "text": [
      "<class 'pandas.core.frame.DataFrame'>\n",
      "Int64Index: 22699 entries, 24870114 to 17208911\n",
      "Data columns (total 6 columns):\n",
      " #   Column           Non-Null Count  Dtype  \n",
      "---  ------           --------------  -----  \n",
      " 0   mean_duration    22699 non-null  float64\n",
      " 1   mean_distance    22699 non-null  float64\n",
      " 2   passenger_count  22699 non-null  int64  \n",
      " 3   VendorID         22699 non-null  int64  \n",
      " 4   rush_hour        22699 non-null  int64  \n",
      " 5   fare_amount      22699 non-null  float64\n",
      "dtypes: float64(3), int64(3)\n",
      "memory usage: 1.7 MB\n"
     ]
    }
   ],
   "source": [
    "# Check if all the model variables are in the right shape for modeling \n",
    "df_model.info()"
   ]
  },
  {
   "cell_type": "code",
   "execution_count": 41,
   "metadata": {},
   "outputs": [
    {
     "name": "stdout",
     "output_type": "stream",
     "text": [
      "           mean_duration  mean_distance  VendorID  rush_hour\n",
      "24870114       22.847222       3.521667         2          0\n",
      "35634249       24.470370       3.108889         1          0\n",
      "106203690       7.250000       0.881429         1          1\n",
      "38942136       30.250000       3.700000         2          0\n",
      "30841670       14.616667       4.435000         2          0\n",
      "...                  ...            ...       ...        ...\n",
      "14873857        8.594643       1.098214         2          1\n",
      "66632549       59.560417      18.757500         2          0\n",
      "74239933        6.609091       0.684242         2          0\n",
      "60217333       16.650000       2.077500         2          0\n",
      "17208911        9.405556       1.476970         1          0\n",
      "\n",
      "[22699 rows x 4 columns]\n",
      "\n",
      "24870114     13.0\n",
      "35634249     16.0\n",
      "106203690     6.5\n",
      "38942136     20.5\n",
      "30841670     16.5\n",
      "             ... \n",
      "14873857      4.0\n",
      "66632549     52.0\n",
      "74239933      4.5\n",
      "60217333     10.5\n",
      "17208911     11.0\n",
      "Name: fare_amount, Length: 22699, dtype: float64\n"
     ]
    }
   ],
   "source": [
    "X = df_model.drop(columns=['fare_amount', 'passenger_count'])\n",
    "y = df_model['fare_amount']\n",
    "\n",
    "# Display first few rows\n",
    "print(X, y, sep='\\n\\n')"
   ]
  },
  {
   "cell_type": "markdown",
   "metadata": {
    "id": "o3ArC_5xa7Oi"
   },
   "source": [
    "### Task 5b. Pre-process data\n"
   ]
  },
  {
   "cell_type": "code",
   "execution_count": 42,
   "metadata": {
    "id": "4Y3T2poF28fP"
   },
   "outputs": [
    {
     "data": {
      "text/html": [
       "<div>\n",
       "<style scoped>\n",
       "    .dataframe tbody tr th:only-of-type {\n",
       "        vertical-align: middle;\n",
       "    }\n",
       "\n",
       "    .dataframe tbody tr th {\n",
       "        vertical-align: top;\n",
       "    }\n",
       "\n",
       "    .dataframe thead th {\n",
       "        text-align: right;\n",
       "    }\n",
       "</style>\n",
       "<table border=\"1\" class=\"dataframe\">\n",
       "  <thead>\n",
       "    <tr style=\"text-align: right;\">\n",
       "      <th></th>\n",
       "      <th>mean_duration</th>\n",
       "      <th>mean_distance</th>\n",
       "      <th>VendorID</th>\n",
       "      <th>rush_hour</th>\n",
       "    </tr>\n",
       "  </thead>\n",
       "  <tbody>\n",
       "    <tr>\n",
       "      <th>24870114</th>\n",
       "      <td>22.847222</td>\n",
       "      <td>3.521667</td>\n",
       "      <td>1</td>\n",
       "      <td>0</td>\n",
       "    </tr>\n",
       "    <tr>\n",
       "      <th>35634249</th>\n",
       "      <td>24.470370</td>\n",
       "      <td>3.108889</td>\n",
       "      <td>0</td>\n",
       "      <td>0</td>\n",
       "    </tr>\n",
       "    <tr>\n",
       "      <th>106203690</th>\n",
       "      <td>7.250000</td>\n",
       "      <td>0.881429</td>\n",
       "      <td>0</td>\n",
       "      <td>1</td>\n",
       "    </tr>\n",
       "    <tr>\n",
       "      <th>38942136</th>\n",
       "      <td>30.250000</td>\n",
       "      <td>3.700000</td>\n",
       "      <td>1</td>\n",
       "      <td>0</td>\n",
       "    </tr>\n",
       "    <tr>\n",
       "      <th>30841670</th>\n",
       "      <td>14.616667</td>\n",
       "      <td>4.435000</td>\n",
       "      <td>1</td>\n",
       "      <td>0</td>\n",
       "    </tr>\n",
       "    <tr>\n",
       "      <th>...</th>\n",
       "      <td>...</td>\n",
       "      <td>...</td>\n",
       "      <td>...</td>\n",
       "      <td>...</td>\n",
       "    </tr>\n",
       "    <tr>\n",
       "      <th>14873857</th>\n",
       "      <td>8.594643</td>\n",
       "      <td>1.098214</td>\n",
       "      <td>1</td>\n",
       "      <td>1</td>\n",
       "    </tr>\n",
       "    <tr>\n",
       "      <th>66632549</th>\n",
       "      <td>59.560417</td>\n",
       "      <td>18.757500</td>\n",
       "      <td>1</td>\n",
       "      <td>0</td>\n",
       "    </tr>\n",
       "    <tr>\n",
       "      <th>74239933</th>\n",
       "      <td>6.609091</td>\n",
       "      <td>0.684242</td>\n",
       "      <td>1</td>\n",
       "      <td>0</td>\n",
       "    </tr>\n",
       "    <tr>\n",
       "      <th>60217333</th>\n",
       "      <td>16.650000</td>\n",
       "      <td>2.077500</td>\n",
       "      <td>1</td>\n",
       "      <td>0</td>\n",
       "    </tr>\n",
       "    <tr>\n",
       "      <th>17208911</th>\n",
       "      <td>9.405556</td>\n",
       "      <td>1.476970</td>\n",
       "      <td>0</td>\n",
       "      <td>0</td>\n",
       "    </tr>\n",
       "  </tbody>\n",
       "</table>\n",
       "<p>22699 rows × 4 columns</p>\n",
       "</div>"
      ],
      "text/plain": [
       "           mean_duration  mean_distance  VendorID  rush_hour\n",
       "24870114       22.847222       3.521667         1          0\n",
       "35634249       24.470370       3.108889         0          0\n",
       "106203690       7.250000       0.881429         0          1\n",
       "38942136       30.250000       3.700000         1          0\n",
       "30841670       14.616667       4.435000         1          0\n",
       "...                  ...            ...       ...        ...\n",
       "14873857        8.594643       1.098214         1          1\n",
       "66632549       59.560417      18.757500         1          0\n",
       "74239933        6.609091       0.684242         1          0\n",
       "60217333       16.650000       2.077500         1          0\n",
       "17208911        9.405556       1.476970         0          0\n",
       "\n",
       "[22699 rows x 4 columns]"
      ]
     },
     "execution_count": 42,
     "metadata": {},
     "output_type": "execute_result"
    }
   ],
   "source": [
    "# Convert VendorID to string\n",
    "X = X.astype({'VendorID': str})\n",
    "\n",
    "# Dummy encode categorical variables\n",
    "X['VendorID'] = pd.get_dummies(X['VendorID'], drop_first=True)\n",
    "X"
   ]
  },
  {
   "cell_type": "markdown",
   "metadata": {},
   "source": [
    "### Split data into training and test sets"
   ]
  },
  {
   "cell_type": "code",
   "execution_count": 43,
   "metadata": {
    "id": "A2BNUvacwaZY"
   },
   "outputs": [],
   "source": [
    "from sklearn.model_selection import train_test_split\n",
    "\n",
    "# Create training and testing sets\n",
    "X_train, X_test, y_train, y_test = train_test_split(X, y, test_size=0.2, random_state=0, stratify=X['VendorID'])\n"
   ]
  },
  {
   "cell_type": "markdown",
   "metadata": {},
   "source": [
    "### Standardize the data"
   ]
  },
  {
   "cell_type": "code",
   "execution_count": 44,
   "metadata": {},
   "outputs": [
    {
     "data": {
      "text/html": [
       "<div>\n",
       "<style scoped>\n",
       "    .dataframe tbody tr th:only-of-type {\n",
       "        vertical-align: middle;\n",
       "    }\n",
       "\n",
       "    .dataframe tbody tr th {\n",
       "        vertical-align: top;\n",
       "    }\n",
       "\n",
       "    .dataframe thead th {\n",
       "        text-align: right;\n",
       "    }\n",
       "</style>\n",
       "<table border=\"1\" class=\"dataframe\">\n",
       "  <thead>\n",
       "    <tr style=\"text-align: right;\">\n",
       "      <th></th>\n",
       "      <th>mean_distance</th>\n",
       "      <th>mean_duration</th>\n",
       "      <th>VendorID</th>\n",
       "      <th>rush_hour</th>\n",
       "    </tr>\n",
       "  </thead>\n",
       "  <tbody>\n",
       "    <tr>\n",
       "      <th>24668747</th>\n",
       "      <td>-0.421477</td>\n",
       "      <td>-0.383920</td>\n",
       "      <td>1</td>\n",
       "      <td>1</td>\n",
       "    </tr>\n",
       "    <tr>\n",
       "      <th>87463036</th>\n",
       "      <td>-0.032161</td>\n",
       "      <td>0.742740</td>\n",
       "      <td>0</td>\n",
       "      <td>0</td>\n",
       "    </tr>\n",
       "    <tr>\n",
       "      <th>72889881</th>\n",
       "      <td>-0.404221</td>\n",
       "      <td>-0.325604</td>\n",
       "      <td>1</td>\n",
       "      <td>0</td>\n",
       "    </tr>\n",
       "  </tbody>\n",
       "</table>\n",
       "</div>"
      ],
      "text/plain": [
       "          mean_distance  mean_duration  VendorID  rush_hour\n",
       "24668747      -0.421477      -0.383920         1          1\n",
       "87463036      -0.032161       0.742740         0          0\n",
       "72889881      -0.404221      -0.325604         1          0"
      ]
     },
     "execution_count": 44,
     "metadata": {},
     "output_type": "execute_result"
    }
   ],
   "source": [
    "from sklearn.preprocessing import StandardScaler\n",
    "\n",
    "# Standardize the X variables\n",
    "sc = StandardScaler()\n",
    "sc.fit(X_train[['mean_distance', 'mean_duration']])\n",
    "features_train_scaled = sc.transform(X_train[['mean_distance', 'mean_duration']])\n",
    "scaled_df = pd.DataFrame(features_train_scaled, index=X_train.index, columns=['mean_distance', 'mean_duration'])\n",
    "X_train_scaled = pd.concat([scaled_df, X_train.iloc[:, 2:]], axis=1)\n",
    "X_train_scaled.head(3)"
   ]
  },
  {
   "cell_type": "markdown",
   "metadata": {},
   "source": [
    "### Fit the model"
   ]
  },
  {
   "cell_type": "code",
   "execution_count": 45,
   "metadata": {},
   "outputs": [
    {
     "data": {
      "text/html": [
       "<table class=\"simpletable\">\n",
       "<caption>OLS Regression Results</caption>\n",
       "<tr>\n",
       "  <th>Dep. Variable:</th>       <td>fare_amount</td>   <th>  R-squared:         </th> <td>   0.851</td> \n",
       "</tr>\n",
       "<tr>\n",
       "  <th>Model:</th>                   <td>OLS</td>       <th>  Adj. R-squared:    </th> <td>   0.851</td> \n",
       "</tr>\n",
       "<tr>\n",
       "  <th>Method:</th>             <td>Least Squares</td>  <th>  F-statistic:       </th> <td>2.594e+04</td>\n",
       "</tr>\n",
       "<tr>\n",
       "  <th>Date:</th>             <td>Tue, 20 Feb 2024</td> <th>  Prob (F-statistic):</th>  <td>  0.00</td>  \n",
       "</tr>\n",
       "<tr>\n",
       "  <th>Time:</th>                 <td>22:08:44</td>     <th>  Log-Likelihood:    </th> <td> -51258.</td> \n",
       "</tr>\n",
       "<tr>\n",
       "  <th>No. Observations:</th>      <td> 18159</td>      <th>  AIC:               </th> <td>1.025e+05</td>\n",
       "</tr>\n",
       "<tr>\n",
       "  <th>Df Residuals:</th>          <td> 18154</td>      <th>  BIC:               </th> <td>1.026e+05</td>\n",
       "</tr>\n",
       "<tr>\n",
       "  <th>Df Model:</th>              <td>     4</td>      <th>                     </th>     <td> </td>    \n",
       "</tr>\n",
       "<tr>\n",
       "  <th>Covariance Type:</th>      <td>nonrobust</td>    <th>                     </th>     <td> </td>    \n",
       "</tr>\n",
       "</table>\n",
       "<table class=\"simpletable\">\n",
       "<tr>\n",
       "        <td></td>           <th>coef</th>     <th>std err</th>      <th>t</th>      <th>P>|t|</th>  <th>[0.025</th>    <th>0.975]</th>  \n",
       "</tr>\n",
       "<tr>\n",
       "  <th>mean_distance</th> <td>    7.1271</td> <td>    0.062</td> <td>  114.562</td> <td> 0.000</td> <td>    7.005</td> <td>    7.249</td>\n",
       "</tr>\n",
       "<tr>\n",
       "  <th>mean_duration</th> <td>    2.8682</td> <td>    0.062</td> <td>   46.129</td> <td> 0.000</td> <td>    2.746</td> <td>    2.990</td>\n",
       "</tr>\n",
       "<tr>\n",
       "  <th>VendorID</th>      <td>   -0.0390</td> <td>    0.061</td> <td>   -0.641</td> <td> 0.522</td> <td>   -0.158</td> <td>    0.080</td>\n",
       "</tr>\n",
       "<tr>\n",
       "  <th>rush_hour</th>     <td>    0.2523</td> <td>    0.066</td> <td>    3.810</td> <td> 0.000</td> <td>    0.122</td> <td>    0.382</td>\n",
       "</tr>\n",
       "<tr>\n",
       "  <th>const</th>         <td>   12.8405</td> <td>    0.049</td> <td>  259.555</td> <td> 0.000</td> <td>   12.744</td> <td>   12.937</td>\n",
       "</tr>\n",
       "</table>\n",
       "<table class=\"simpletable\">\n",
       "<tr>\n",
       "  <th>Omnibus:</th>       <td>20643.649</td> <th>  Durbin-Watson:     </th>  <td>   2.016</td>  \n",
       "</tr>\n",
       "<tr>\n",
       "  <th>Prob(Omnibus):</th>  <td> 0.000</td>   <th>  Jarque-Bera (JB):  </th> <td>3100674.863</td>\n",
       "</tr>\n",
       "<tr>\n",
       "  <th>Skew:</th>           <td> 5.780</td>   <th>  Prob(JB):          </th>  <td>    0.00</td>  \n",
       "</tr>\n",
       "<tr>\n",
       "  <th>Kurtosis:</th>       <td>65.963</td>   <th>  Cond. No.          </th>  <td>    3.86</td>  \n",
       "</tr>\n",
       "</table><br/><br/>Notes:<br/>[1] Standard Errors assume that the covariance matrix of the errors is correctly specified."
      ],
      "text/latex": [
       "\\begin{center}\n",
       "\\begin{tabular}{lclc}\n",
       "\\toprule\n",
       "\\textbf{Dep. Variable:}    &   fare\\_amount   & \\textbf{  R-squared:         } &      0.851   \\\\\n",
       "\\textbf{Model:}            &       OLS        & \\textbf{  Adj. R-squared:    } &      0.851   \\\\\n",
       "\\textbf{Method:}           &  Least Squares   & \\textbf{  F-statistic:       } &  2.594e+04   \\\\\n",
       "\\textbf{Date:}             & Tue, 20 Feb 2024 & \\textbf{  Prob (F-statistic):} &      0.00    \\\\\n",
       "\\textbf{Time:}             &     22:08:44     & \\textbf{  Log-Likelihood:    } &    -51258.   \\\\\n",
       "\\textbf{No. Observations:} &       18159      & \\textbf{  AIC:               } &  1.025e+05   \\\\\n",
       "\\textbf{Df Residuals:}     &       18154      & \\textbf{  BIC:               } &  1.026e+05   \\\\\n",
       "\\textbf{Df Model:}         &           4      & \\textbf{                     } &              \\\\\n",
       "\\textbf{Covariance Type:}  &    nonrobust     & \\textbf{                     } &              \\\\\n",
       "\\bottomrule\n",
       "\\end{tabular}\n",
       "\\begin{tabular}{lcccccc}\n",
       "                        & \\textbf{coef} & \\textbf{std err} & \\textbf{t} & \\textbf{P$> |$t$|$} & \\textbf{[0.025} & \\textbf{0.975]}  \\\\\n",
       "\\midrule\n",
       "\\textbf{mean\\_distance} &       7.1271  &        0.062     &   114.562  &         0.000        &        7.005    &        7.249     \\\\\n",
       "\\textbf{mean\\_duration} &       2.8682  &        0.062     &    46.129  &         0.000        &        2.746    &        2.990     \\\\\n",
       "\\textbf{VendorID}       &      -0.0390  &        0.061     &    -0.641  &         0.522        &       -0.158    &        0.080     \\\\\n",
       "\\textbf{rush\\_hour}     &       0.2523  &        0.066     &     3.810  &         0.000        &        0.122    &        0.382     \\\\\n",
       "\\textbf{const}          &      12.8405  &        0.049     &   259.555  &         0.000        &       12.744    &       12.937     \\\\\n",
       "\\bottomrule\n",
       "\\end{tabular}\n",
       "\\begin{tabular}{lclc}\n",
       "\\textbf{Omnibus:}       & 20643.649 & \\textbf{  Durbin-Watson:     } &      2.016   \\\\\n",
       "\\textbf{Prob(Omnibus):} &    0.000  & \\textbf{  Jarque-Bera (JB):  } & 3100674.863  \\\\\n",
       "\\textbf{Skew:}          &    5.780  & \\textbf{  Prob(JB):          } &       0.00   \\\\\n",
       "\\textbf{Kurtosis:}      &   65.963  & \\textbf{  Cond. No.          } &       3.86   \\\\\n",
       "\\bottomrule\n",
       "\\end{tabular}\n",
       "%\\caption{OLS Regression Results}\n",
       "\\end{center}\n",
       "\n",
       "Notes: \\newline\n",
       " [1] Standard Errors assume that the covariance matrix of the errors is correctly specified."
      ],
      "text/plain": [
       "<class 'statsmodels.iolib.summary.Summary'>\n",
       "\"\"\"\n",
       "                            OLS Regression Results                            \n",
       "==============================================================================\n",
       "Dep. Variable:            fare_amount   R-squared:                       0.851\n",
       "Model:                            OLS   Adj. R-squared:                  0.851\n",
       "Method:                 Least Squares   F-statistic:                 2.594e+04\n",
       "Date:                Tue, 20 Feb 2024   Prob (F-statistic):               0.00\n",
       "Time:                        22:08:44   Log-Likelihood:                -51258.\n",
       "No. Observations:               18159   AIC:                         1.025e+05\n",
       "Df Residuals:                   18154   BIC:                         1.026e+05\n",
       "Df Model:                           4                                         \n",
       "Covariance Type:            nonrobust                                         \n",
       "=================================================================================\n",
       "                    coef    std err          t      P>|t|      [0.025      0.975]\n",
       "---------------------------------------------------------------------------------\n",
       "mean_distance     7.1271      0.062    114.562      0.000       7.005       7.249\n",
       "mean_duration     2.8682      0.062     46.129      0.000       2.746       2.990\n",
       "VendorID         -0.0390      0.061     -0.641      0.522      -0.158       0.080\n",
       "rush_hour         0.2523      0.066      3.810      0.000       0.122       0.382\n",
       "const            12.8405      0.049    259.555      0.000      12.744      12.937\n",
       "==============================================================================\n",
       "Omnibus:                    20643.649   Durbin-Watson:                   2.016\n",
       "Prob(Omnibus):                  0.000   Jarque-Bera (JB):          3100674.863\n",
       "Skew:                           5.780   Prob(JB):                         0.00\n",
       "Kurtosis:                      65.963   Cond. No.                         3.86\n",
       "==============================================================================\n",
       "\n",
       "Notes:\n",
       "[1] Standard Errors assume that the covariance matrix of the errors is correctly specified.\n",
       "\"\"\""
      ]
     },
     "execution_count": 45,
     "metadata": {},
     "output_type": "execute_result"
    }
   ],
   "source": [
    "multiple_regr = sm.OLS(y_train, X_train_scaled.assign(const=1))\n",
    "model = multiple_regr.fit()\n",
    "model.summary()"
   ]
  },
  {
   "cell_type": "markdown",
   "metadata": {
    "id": "HMj6QkK1cLmS"
   },
   "source": [
    "### Task 5c. Evaluate model"
   ]
  },
  {
   "cell_type": "markdown",
   "metadata": {
    "id": "AromLx7t5hjt"
   },
   "source": [
    "### Train data\n",
    "\n",
    "Evaluate the model performance by calculating the residual sum of squares and the explained variance score (R^2). Calculate the Mean Absolute Error, Mean Squared Error, and the Root Mean Squared Error."
   ]
  },
  {
   "cell_type": "code",
   "execution_count": 46,
   "metadata": {
    "id": "33rE1x9e3U6t"
   },
   "outputs": [
    {
     "name": "stdout",
     "output_type": "stream",
     "text": [
      "R_squared: 0.851, MAE: 2.159, MSE: 16.570\n"
     ]
    }
   ],
   "source": [
    "# Evaluate the model performance on the training data\n",
    "train_predictions = model.predict(X_train_scaled.assign(const=1)) \n",
    "R_squared = metrics.r2_score(y_train, train_predictions)\n",
    "MAE = metrics.mean_absolute_error(y_train, train_predictions)\n",
    "MSE = metrics.mean_squared_error(y_train, train_predictions)\n",
    "\n",
    "print(f'R_squared: {R_squared:.3f}, MAE: {MAE:.3f}, MSE: {MSE:.3f}')"
   ]
  },
  {
   "cell_type": "code",
   "execution_count": 67,
   "metadata": {},
   "outputs": [],
   "source": [
    "# Save a copy of the feature egineered vars & predicted results for downstream use\n",
    "train_data = pd.DataFrame({'mean_duration': X_train['mean_duration'], \n",
    "                           'mean_distance': X_train['mean_distance'],\n",
    "                           'predicted_fare': train_predictions})"
   ]
  },
  {
   "cell_type": "markdown",
   "metadata": {},
   "source": [
    "### Test data\n",
    "\n",
    "Calculate the same metrics on the test data."
   ]
  },
  {
   "cell_type": "code",
   "execution_count": 55,
   "metadata": {},
   "outputs": [
    {
     "data": {
      "text/html": [
       "<div>\n",
       "<style scoped>\n",
       "    .dataframe tbody tr th:only-of-type {\n",
       "        vertical-align: middle;\n",
       "    }\n",
       "\n",
       "    .dataframe tbody tr th {\n",
       "        vertical-align: top;\n",
       "    }\n",
       "\n",
       "    .dataframe thead th {\n",
       "        text-align: right;\n",
       "    }\n",
       "</style>\n",
       "<table border=\"1\" class=\"dataframe\">\n",
       "  <thead>\n",
       "    <tr style=\"text-align: right;\">\n",
       "      <th></th>\n",
       "      <th>mean_distance</th>\n",
       "      <th>mean_duration</th>\n",
       "      <th>VendorID</th>\n",
       "      <th>rush_hour</th>\n",
       "    </tr>\n",
       "  </thead>\n",
       "  <tbody>\n",
       "    <tr>\n",
       "      <th>53057522</th>\n",
       "      <td>-0.543936</td>\n",
       "      <td>-0.665281</td>\n",
       "      <td>0</td>\n",
       "      <td>0</td>\n",
       "    </tr>\n",
       "    <tr>\n",
       "      <th>53523238</th>\n",
       "      <td>-0.536250</td>\n",
       "      <td>-0.609394</td>\n",
       "      <td>0</td>\n",
       "      <td>1</td>\n",
       "    </tr>\n",
       "    <tr>\n",
       "      <th>101954206</th>\n",
       "      <td>0.163138</td>\n",
       "      <td>0.213586</td>\n",
       "      <td>0</td>\n",
       "      <td>0</td>\n",
       "    </tr>\n",
       "  </tbody>\n",
       "</table>\n",
       "</div>"
      ],
      "text/plain": [
       "           mean_distance  mean_duration  VendorID  rush_hour\n",
       "53057522       -0.543936      -0.665281         0          0\n",
       "53523238       -0.536250      -0.609394         0          1\n",
       "101954206       0.163138       0.213586         0          0"
      ]
     },
     "execution_count": 55,
     "metadata": {},
     "output_type": "execute_result"
    }
   ],
   "source": [
    "# Scale the X_test data\n",
    "features_test_scaled = sc.transform(X_test[['mean_distance', 'mean_duration']])\n",
    "X_test_scaled = pd.concat([pd.DataFrame(features_test_scaled, index=X_test.index, columns=['mean_distance', 'mean_duration']), X_test[['VendorID', 'rush_hour']]], axis=1)\n",
    "X_test_scaled.head(3)"
   ]
  },
  {
   "cell_type": "code",
   "execution_count": 56,
   "metadata": {
    "id": "P5nXSpRCVXq6"
   },
   "outputs": [
    {
     "name": "stdout",
     "output_type": "stream",
     "text": [
      "R_squared: 0.823, MAE: 2.194, MSE: 19.602\n"
     ]
    }
   ],
   "source": [
    "# Evaluate the model performance on the testing data\n",
    "test_predictions = model.predict(X_test_scaled.assign(const=1)) \n",
    "R_squared = metrics.r2_score(y_test, test_predictions)\n",
    "MAE = metrics.mean_absolute_error(y_test, test_predictions)\n",
    "MSE = metrics.mean_squared_error(y_test, test_predictions)\n",
    "\n",
    "print(f'R_squared: {R_squared:.3f}, MAE: {MAE:.3f}, MSE: {MSE:.3f}')"
   ]
  },
  {
   "cell_type": "markdown",
   "metadata": {},
   "source": [
    "**Note:** The model performance is high on both training & test sets, \n",
    "indicating that there is little bias in the model and that model is not overfit. \n",
    "\n",
    "The mean absolute error (MAE) is informative here because it allows us to assess whether the squared evaluation metric (MSE) for the model is heavily affected by the outliers in smaller test sample compared to the training set. "
   ]
  },
  {
   "cell_type": "markdown",
   "metadata": {
    "id": "L3MCKUhPJLi5"
   },
   "source": [
    "<img src=\"images/Execute.png\" width=\"100\" height=\"100\" align=left>\n",
    "\n",
    "## PACE: **Execute**\n",
    "Review the model coefficients & important model assumptions concerning with prediction accuracy."
   ]
  },
  {
   "cell_type": "markdown",
   "metadata": {
    "id": "F_l3bkxQdJ3a"
   },
   "source": [
    "### Task 6a. Examine Model Results\n",
    "\n",
    "In explanatory modeling (ie. research context), the influence of outliers and model assumptions may be reviewed, in addition to the metrics to assess how well the model fits the data. "
   ]
  },
  {
   "cell_type": "code",
   "execution_count": 57,
   "metadata": {
    "id": "cSl5gbXfBPBN"
   },
   "outputs": [
    {
     "data": {
      "text/html": [
       "<div>\n",
       "<style scoped>\n",
       "    .dataframe tbody tr th:only-of-type {\n",
       "        vertical-align: middle;\n",
       "    }\n",
       "\n",
       "    .dataframe tbody tr th {\n",
       "        vertical-align: top;\n",
       "    }\n",
       "\n",
       "    .dataframe thead th {\n",
       "        text-align: right;\n",
       "    }\n",
       "</style>\n",
       "<table border=\"1\" class=\"dataframe\">\n",
       "  <thead>\n",
       "    <tr style=\"text-align: right;\">\n",
       "      <th></th>\n",
       "      <th>actual</th>\n",
       "      <th>predicted</th>\n",
       "      <th>residual</th>\n",
       "    </tr>\n",
       "  </thead>\n",
       "  <tbody>\n",
       "    <tr>\n",
       "      <th>53057522</th>\n",
       "      <td>6.0</td>\n",
       "      <td>7.055671</td>\n",
       "      <td>-1.055671</td>\n",
       "    </tr>\n",
       "    <tr>\n",
       "      <th>53523238</th>\n",
       "      <td>6.0</td>\n",
       "      <td>7.523003</td>\n",
       "      <td>-1.523003</td>\n",
       "    </tr>\n",
       "    <tr>\n",
       "      <th>101954206</th>\n",
       "      <td>13.5</td>\n",
       "      <td>14.615839</td>\n",
       "      <td>-1.115839</td>\n",
       "    </tr>\n",
       "    <tr>\n",
       "      <th>903911</th>\n",
       "      <td>7.0</td>\n",
       "      <td>7.840626</td>\n",
       "      <td>-0.840626</td>\n",
       "    </tr>\n",
       "    <tr>\n",
       "      <th>44354023</th>\n",
       "      <td>5.0</td>\n",
       "      <td>6.122204</td>\n",
       "      <td>-1.122204</td>\n",
       "    </tr>\n",
       "    <tr>\n",
       "      <th>...</th>\n",
       "      <td>...</td>\n",
       "      <td>...</td>\n",
       "      <td>...</td>\n",
       "    </tr>\n",
       "    <tr>\n",
       "      <th>89655653</th>\n",
       "      <td>10.5</td>\n",
       "      <td>6.489679</td>\n",
       "      <td>4.010321</td>\n",
       "    </tr>\n",
       "    <tr>\n",
       "      <th>14139464</th>\n",
       "      <td>8.5</td>\n",
       "      <td>10.761983</td>\n",
       "      <td>-2.261983</td>\n",
       "    </tr>\n",
       "    <tr>\n",
       "      <th>23199299</th>\n",
       "      <td>7.5</td>\n",
       "      <td>6.846735</td>\n",
       "      <td>0.653265</td>\n",
       "    </tr>\n",
       "    <tr>\n",
       "      <th>8234396</th>\n",
       "      <td>7.5</td>\n",
       "      <td>6.711961</td>\n",
       "      <td>0.788039</td>\n",
       "    </tr>\n",
       "    <tr>\n",
       "      <th>110377903</th>\n",
       "      <td>8.0</td>\n",
       "      <td>8.089873</td>\n",
       "      <td>-0.089873</td>\n",
       "    </tr>\n",
       "  </tbody>\n",
       "</table>\n",
       "<p>4540 rows × 3 columns</p>\n",
       "</div>"
      ],
      "text/plain": [
       "           actual  predicted  residual\n",
       "53057522      6.0   7.055671 -1.055671\n",
       "53523238      6.0   7.523003 -1.523003\n",
       "101954206    13.5  14.615839 -1.115839\n",
       "903911        7.0   7.840626 -0.840626\n",
       "44354023      5.0   6.122204 -1.122204\n",
       "...           ...        ...       ...\n",
       "89655653     10.5   6.489679  4.010321\n",
       "14139464      8.5  10.761983 -2.261983\n",
       "23199299      7.5   6.846735  0.653265\n",
       "8234396       7.5   6.711961  0.788039\n",
       "110377903     8.0   8.089873 -0.089873\n",
       "\n",
       "[4540 rows x 3 columns]"
      ]
     },
     "execution_count": 57,
     "metadata": {},
     "output_type": "execute_result"
    }
   ],
   "source": [
    "# Get `actual`,`predicted`, and `residual` for the test set, \n",
    "# and store them as columns in a `results` dataframe.\n",
    "results = pd.DataFrame({'actual': y_test, \n",
    "                        'predicted': test_predictions,\n",
    "                        'residual': y_test - test_predictions})\n",
    "results\n"
   ]
  },
  {
   "cell_type": "code",
   "execution_count": 66,
   "metadata": {},
   "outputs": [],
   "source": [
    "# Save a copy of the feature egineered vars & predicted results for downstream use\n",
    "test_data = pd.DataFrame({'mean_duration': X_test['mean_duration'],\n",
    "                          'mean_distance': X_test['mean_distance'],\n",
    "                          'predicted_fare': test_predictions})"
   ]
  },
  {
   "cell_type": "code",
   "execution_count": 62,
   "metadata": {},
   "outputs": [
    {
     "data": {
      "text/html": [
       "<div>\n",
       "<style scoped>\n",
       "    .dataframe tbody tr th:only-of-type {\n",
       "        vertical-align: middle;\n",
       "    }\n",
       "\n",
       "    .dataframe tbody tr th {\n",
       "        vertical-align: top;\n",
       "    }\n",
       "\n",
       "    .dataframe thead th {\n",
       "        text-align: right;\n",
       "    }\n",
       "</style>\n",
       "<table border=\"1\" class=\"dataframe\">\n",
       "  <thead>\n",
       "    <tr style=\"text-align: right;\">\n",
       "      <th></th>\n",
       "      <th>mean_duration</th>\n",
       "      <th>mean_distance</th>\n",
       "      <th>predicted_fare</th>\n",
       "    </tr>\n",
       "  </thead>\n",
       "  <tbody>\n",
       "    <tr>\n",
       "      <th>53057522</th>\n",
       "      <td>7.737984</td>\n",
       "      <td>0.974884</td>\n",
       "      <td>7.055671</td>\n",
       "    </tr>\n",
       "    <tr>\n",
       "      <th>53523238</th>\n",
       "      <td>8.305229</td>\n",
       "      <td>1.002353</td>\n",
       "      <td>7.523003</td>\n",
       "    </tr>\n",
       "    <tr>\n",
       "      <th>101954206</th>\n",
       "      <td>16.658333</td>\n",
       "      <td>3.501667</td>\n",
       "      <td>14.615839</td>\n",
       "    </tr>\n",
       "    <tr>\n",
       "      <th>903911</th>\n",
       "      <td>7.916667</td>\n",
       "      <td>1.216667</td>\n",
       "      <td>7.840626</td>\n",
       "    </tr>\n",
       "    <tr>\n",
       "      <th>44354023</th>\n",
       "      <td>5.328862</td>\n",
       "      <td>0.721707</td>\n",
       "      <td>6.122204</td>\n",
       "    </tr>\n",
       "    <tr>\n",
       "      <th>...</th>\n",
       "      <td>...</td>\n",
       "      <td>...</td>\n",
       "      <td>...</td>\n",
       "    </tr>\n",
       "    <tr>\n",
       "      <th>77926221</th>\n",
       "      <td>6.997778</td>\n",
       "      <td>1.303333</td>\n",
       "      <td>7.462593</td>\n",
       "    </tr>\n",
       "    <tr>\n",
       "      <th>14060322</th>\n",
       "      <td>12.066667</td>\n",
       "      <td>1.800000</td>\n",
       "      <td>10.176756</td>\n",
       "    </tr>\n",
       "    <tr>\n",
       "      <th>63829426</th>\n",
       "      <td>10.807143</td>\n",
       "      <td>1.395000</td>\n",
       "      <td>8.974139</td>\n",
       "    </tr>\n",
       "    <tr>\n",
       "      <th>74128445</th>\n",
       "      <td>7.373333</td>\n",
       "      <td>1.002000</td>\n",
       "      <td>6.967744</td>\n",
       "    </tr>\n",
       "    <tr>\n",
       "      <th>65431642</th>\n",
       "      <td>8.524762</td>\n",
       "      <td>0.832286</td>\n",
       "      <td>6.954645</td>\n",
       "    </tr>\n",
       "  </tbody>\n",
       "</table>\n",
       "<p>22699 rows × 3 columns</p>\n",
       "</div>"
      ],
      "text/plain": [
       "           mean_duration  mean_distance  predicted_fare\n",
       "53057522        7.737984       0.974884        7.055671\n",
       "53523238        8.305229       1.002353        7.523003\n",
       "101954206      16.658333       3.501667       14.615839\n",
       "903911          7.916667       1.216667        7.840626\n",
       "44354023        5.328862       0.721707        6.122204\n",
       "...                  ...            ...             ...\n",
       "77926221        6.997778       1.303333        7.462593\n",
       "14060322       12.066667       1.800000       10.176756\n",
       "63829426       10.807143       1.395000        8.974139\n",
       "74128445        7.373333       1.002000        6.967744\n",
       "65431642        8.524762       0.832286        6.954645\n",
       "\n",
       "[22699 rows x 3 columns]"
      ]
     },
     "execution_count": 62,
     "metadata": {},
     "output_type": "execute_result"
    }
   ],
   "source": [
    "# Merge the data and save as a complete set\n",
    "data = pd.concat([test_data, train_data], axis=0)"
   ]
  },
  {
   "cell_type": "code",
   "execution_count": 65,
   "metadata": {},
   "outputs": [],
   "source": [
    "data.to_csv('nyc_selfpreds_means.csv', index=True)\n",
    "    "
   ]
  },
  {
   "cell_type": "markdown",
   "metadata": {
    "id": "mwRmSDS3eyeH"
   },
   "source": [
    "### Task 6b. Visualize model results"
   ]
  },
  {
   "cell_type": "code",
   "execution_count": 60,
   "metadata": {
    "id": "IBFU_dicBjwQ"
   },
   "outputs": [
    {
     "data": {
      "image/png": "[encoded data removed]",
      "text/plain": [
       "<Figure size 432x288 with 1 Axes>"
      ]
     },
     "metadata": {},
     "output_type": "display_data"
    }
   ],
   "source": [
    "# Create a scatterplot to visualize `predicted` over `actual`\n",
    "ax = sns.regplot(x=results.predicted, y=results.actual, ci=95,\n",
    "                 scatter_kws={'alpha': 0.5, 's': 20}, line_kws={'color': 'k'})\n",
    "plt.setp(ax.collections[1], alpha=0.4)\n",
    "plt.title('Actual vs Predicted Fare Amount', y=1.02)\n",
    "plt.show()"
   ]
  },
  {
   "cell_type": "code",
   "execution_count": 61,
   "metadata": {
    "id": "3a0UYoEr9Nx6"
   },
   "outputs": [
    {
     "data": {
      "image/png": "[encoded data removed]",
      "text/plain": [
       "<Figure size 432x288 with 1 Axes>"
      ]
     },
     "metadata": {},
     "output_type": "display_data"
    }
   ],
   "source": [
    "# Visualize the distribution of the `residuals`\n",
    "norm_fig = sns.histplot(results.residual, bins='auto', binrange=[-10, 10])\n",
    "plt.title('Histogram of Test Residuals')\n",
    "plt.xlabel('Residual Value'); plt.ylabel('Count')\n",
    "plt.show()"
   ]
  },
  {
   "cell_type": "code",
   "execution_count": 62,
   "metadata": {},
   "outputs": [
    {
     "data": {
      "text/plain": [
       "0.11679883216969629"
      ]
     },
     "execution_count": 62,
     "metadata": {},
     "output_type": "execute_result"
    }
   ],
   "source": [
    "# Calculate residual mean\n",
    "residual_mean = results['residual'].mean() \n",
    "residual_mean"
   ]
  },
  {
   "cell_type": "markdown",
   "metadata": {},
   "source": [
    "*The distribution of residuals is approximately normal and has a mean of 0.12, which suggests that the outcome variable is well explained by the model & unbiased.*"
   ]
  },
  {
   "cell_type": "code",
   "execution_count": 63,
   "metadata": {
    "id": "7Kmr2U8A95fY"
   },
   "outputs": [
    {
     "data": {
      "image/png": "[encoded data removed]",
      "text/plain": [
       "<Figure size 432x288 with 1 Axes>"
      ]
     },
     "metadata": {},
     "output_type": "display_data"
    }
   ],
   "source": [
    "# Create a scatterplot of `residuals` over `predicted`\n",
    "resid_plot = sns.scatterplot(x='predicted', y='residual', data=results)\n",
    "resid_plot.axhline(0, ls='--', color='k', zorder=0)\n",
    "plt.show()"
   ]
  },
  {
   "cell_type": "markdown",
   "metadata": {},
   "source": [
    "*The model's residuals are evenly distributed around the mean of 0 {Homoscedascity & Independent observations are complied}, with  exception of the sloping points from the upper-left to the lower-right corner, which are known for as the imputed maximum value of \\\\$62.50 & the flat rate of \\\\$52 for JFK airport from the EDA.* "
   ]
  },
  {
   "cell_type": "markdown",
   "metadata": {},
   "source": [
    "### Task 9c. Coefficients"
   ]
  },
  {
   "cell_type": "code",
   "execution_count": 64,
   "metadata": {},
   "outputs": [
    {
     "data": {
      "text/plain": [
       "mean_distance     7.127109\n",
       "mean_duration     2.868208\n",
       "VendorID         -0.038963\n",
       "rush_hour         0.252251\n",
       "const            12.840528\n",
       "dtype: float64"
      ]
     },
     "execution_count": 64,
     "metadata": {},
     "output_type": "execute_result"
    }
   ],
   "source": [
    "# Output the model's coefficients\n",
    "model.params"
   ]
  },
  {
   "cell_type": "markdown",
   "metadata": {},
   "source": [
    "**Note:** As the `mean_distance` & `mean_duration` are scaled, common misinterpretation can occur if the variables were treated similar to miles or minutes."
   ]
  },
  {
   "cell_type": "code",
   "execution_count": 65,
   "metadata": {},
   "outputs": [
    {
     "name": "stdout",
     "output_type": "stream",
     "text": [
      "3.5736726886746744 10.150115473028745\n",
      "1.9943373724702098 0.28257885416392614\n"
     ]
    }
   ],
   "source": [
    "# To translate coefficients back to miles instead of S.D (unscaled):\n",
    "# 1. Calculate SD of the feature in X_train data\n",
    "print(X_train['mean_distance'].std(), X_train['mean_duration'].std())\n",
    "\n",
    "# 2. Divide the model coefficient by the standard deviation\n",
    "print(model.params[0] / X_train['mean_distance'].std(), \n",
    "      model.params[1] / X_train['mean_duration'].std())"
   ]
  },
  {
   "cell_type": "markdown",
   "metadata": {},
   "source": [
    "What do these coefficients mean? How should they be interpreted? Which feature had the greatest effect on trip fare?"
   ]
  },
  {
   "cell_type": "markdown",
   "metadata": {},
   "source": [
    "*&emsp;(1)  For every mile in the mean distance of a trip, the fare amount is expected to raise by 2 dollar on average, while holding other variable constant. Or, for every 3.57 miles traveled, the fare is increased by a mean of 7.13 dollars.<br>\n",
    "&emsp;(2) A delay on the trip caused by traffic & waiting time is expected to raise the fare amount by 2.87 dollar on average with every minute that goes by, given the same mean distance, vendor & hour of the day.<br>\n",
    "&emsp;(3) On average, a trip offered by VeriFone Inc. is expected to command a fare amount of roughly 4 pennies lower than a trip in Creative Mobile Technologies.<br>\n",
    "&emsp;(4) For a trip during rush hour, it is expected to command a fare amount of a quarter high than normal hour on average, while holding other variables constant.*  "
   ]
  },
  {
   "cell_type": "markdown",
   "metadata": {},
   "source": [
    "# NOTES\n",
    "\n",
    "There are some things to note that differ from best practice or from how tasks are typically performed.\n",
    "\n",
    "- Imputing the fare amount for `RatecodeID 2` after training the model and then calculating model performance metrics on the post-imputed data is not best practice. It would be better to separate the rides that did *not* have rate codes of 2, train the model on that data specifically, and then add the `RatecodeID 2` data (and its imputed rates) *after*. This would prevent training the model on data that you don't need a model for, and would likely result in a better final model. However, the steps were combined for simplicity.\n",
    "</br></br>"
   ]
  }
 ],
 "metadata": {
  "colab": {
   "provenance": [],
   "toc_visible": true
  },
  "kernelspec": {
   "display_name": "Python 3 (ipykernel)",
   "language": "python",
   "name": "python3"
  },
  "language_info": {
   "codemirror_mode": {
    "name": "ipython",
    "version": 3
   },
   "file_extension": ".py",
   "mimetype": "text/x-python",
   "name": "python",
   "nbconvert_exporter": "python",
   "pygments_lexer": "ipython3",
   "version": "3.9.7"
  }
 },
 "nbformat": 4,
 "nbformat_minor": 4
}
